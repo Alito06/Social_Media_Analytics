{
 "cells": [
  {
   "cell_type": "markdown",
   "metadata": {},
   "source": [
    "## Social Media Analytics\n",
    "\n",
    "### Sentiment Analysis Best Buy\n",
    " Sentiment analysis, also known as opinion mining, is a field of natural language processing (NLP) that involves using computational techniques to determine the sentiment or subjective information conveyed in text. Its objective is to automatically identify and extract the emotional tone, attitude, or opinion present in various forms of text, such as reviews, social media posts, and customer feedback.\n",
    "\n",
    "The primary goal of sentiment analysis is to categorize text into different sentiment polarities, typically positive, negative, or neutral. This analysis provides valuable insights to businesses and organizations regarding public opinion, customer feedback, brand perception, and market trends. By understanding the sentiment expressed in large volumes of text data, companies can make data-driven decisions, enhance their products or services, and improve customer experiences.\n",
    "\n",
    "There are several approaches to sentiment analysis, ranging from rule-based methods to machine learning techniques. Rule-based methods involve creating predefined rules or patterns to identify sentiment-bearing words or phrases and assign sentiment scores accordingly. In contrast, machine learning approaches utilize algorithms to learn patterns and relationships from labeled training data, enabling the system to classify new, unseen text.\n",
    "\n",
    "However, sentiment analysis faces challenges due to factors such as sarcasm, irony, context ambiguity, and language nuances. These linguistic subtleties make accurately interpreting sentiment more complex. Researchers and developers continuously strive to enhance sentiment analysis models by leveraging advanced techniques like deep learning, contextual word embeddings, and domain-specific training data.\n",
    "\n",
    "Sentiment analysis finds applications across various industries. It is used for brand monitoring, reputation management, customer feedback analysis, social media sentiment tracking, market research, political analysis, and customer support optimization.\n",
    "\n",
    "In summary, sentiment analysis is a valuable tool that enables businesses and organizations to gain insights from text data by automatically categorizing the sentiment expressed within it. In today's digital age, where vast amounts of textual information are generated daily, understanding the sentiment behind that information can provide a competitive advantage."
   ]
  },
  {
   "cell_type": "markdown",
   "metadata": {},
   "source": [
    "### Initial setup"
   ]
  },
  {
   "cell_type": "code",
   "execution_count": 1,
   "metadata": {},
   "outputs": [],
   "source": [
    "# Import packages\n",
    "import csv\n",
    "import pandas as pd\n",
    "import numpy as np\n",
    "import nltk \n",
    "import re\n",
    "from bs4 import BeautifulSoup\n",
    "from nltk.tokenize import sent_tokenize\n",
    "from nltk.tokenize import word_tokenize\n",
    "from nltk.corpus import stopwords\n",
    "from vaderSentiment.vaderSentiment import SentimentIntensityAnalyzer "
   ]
  },
  {
   "cell_type": "code",
   "execution_count": 2,
   "metadata": {},
   "outputs": [],
   "source": [
    "dtypes = {\n",
    "    'id': 'category',\n",
    "    'device': 'category',\n",
    "    'user': 'category',\n",
    "    'rating': 'float64',\n",
    "    'text': 'string',\n",
    "    'data': 'category',\n",
    "    'ownership_length': 'category',\n",
    "}\n",
    "\n",
    "ds = pd.read_excel(\n",
    "    \"ExtractedReviewsDatabb.xlsx\",\n",
    "    dtype=dtypes,\n",
    " )"
   ]
  },
  {
   "cell_type": "code",
   "execution_count": 3,
   "metadata": {},
   "outputs": [
    {
     "data": {
      "text/html": [
       "<div>\n",
       "<style scoped>\n",
       "    .dataframe tbody tr th:only-of-type {\n",
       "        vertical-align: middle;\n",
       "    }\n",
       "\n",
       "    .dataframe tbody tr th {\n",
       "        vertical-align: top;\n",
       "    }\n",
       "\n",
       "    .dataframe thead th {\n",
       "        text-align: right;\n",
       "    }\n",
       "</style>\n",
       "<table border=\"1\" class=\"dataframe\">\n",
       "  <thead>\n",
       "    <tr style=\"text-align: right;\">\n",
       "      <th></th>\n",
       "      <th>ID</th>\n",
       "      <th>device</th>\n",
       "      <th>user</th>\n",
       "      <th>rating</th>\n",
       "      <th>text</th>\n",
       "      <th>date</th>\n",
       "      <th>ownership_length</th>\n",
       "      <th>pros_mentioned</th>\n",
       "      <th>cons_mentioned</th>\n",
       "    </tr>\n",
       "  </thead>\n",
       "  <tbody>\n",
       "    <tr>\n",
       "      <th>0</th>\n",
       "      <td>0</td>\n",
       "      <td>Apple - iPhone 14 128GB - Midnight (Verizon)</td>\n",
       "      <td>BigG</td>\n",
       "      <td>5.0</td>\n",
       "      <td>Apple makes the best cellphone on the market h...</td>\n",
       "      <td>2023-02-03</td>\n",
       "      <td>less than 1 week</td>\n",
       "      <td>Not specified</td>\n",
       "      <td>Not specified</td>\n",
       "    </tr>\n",
       "    <tr>\n",
       "      <th>1</th>\n",
       "      <td>1</td>\n",
       "      <td>Apple - iPhone 14 128GB - Midnight (Verizon)</td>\n",
       "      <td>Jp44087</td>\n",
       "      <td>5.0</td>\n",
       "      <td>Ease of use, good battery life, 128gb fits me ...</td>\n",
       "      <td>2023-02-03</td>\n",
       "      <td>3 weeks</td>\n",
       "      <td>Battery life, Ease of use</td>\n",
       "      <td>Not specified</td>\n",
       "    </tr>\n",
       "    <tr>\n",
       "      <th>2</th>\n",
       "      <td>2</td>\n",
       "      <td>Apple - iPhone 14 128GB - Midnight (Verizon)</td>\n",
       "      <td>GamerDadLife</td>\n",
       "      <td>5.0</td>\n",
       "      <td>Love it works great and the red color is the m...</td>\n",
       "      <td>2022-12-24</td>\n",
       "      <td>2 weeks</td>\n",
       "      <td>Color</td>\n",
       "      <td>Not specified</td>\n",
       "    </tr>\n",
       "    <tr>\n",
       "      <th>3</th>\n",
       "      <td>3</td>\n",
       "      <td>Apple - iPhone 14 128GB - Midnight (Verizon)</td>\n",
       "      <td>LevanaP</td>\n",
       "      <td>5.0</td>\n",
       "      <td>Been a long time iPhone user. This is a awesom...</td>\n",
       "      <td>2023-04-14</td>\n",
       "      <td>1 week</td>\n",
       "      <td>Not specified</td>\n",
       "      <td>Not specified</td>\n",
       "    </tr>\n",
       "    <tr>\n",
       "      <th>4</th>\n",
       "      <td>4</td>\n",
       "      <td>Apple - iPhone 14 128GB - Midnight (Verizon)</td>\n",
       "      <td>Anonymous</td>\n",
       "      <td>5.0</td>\n",
       "      <td>My wife dropped her phone right AFTER the Appl...</td>\n",
       "      <td>2023-04-15</td>\n",
       "      <td>3 weeks</td>\n",
       "      <td>Not specified</td>\n",
       "      <td>Not specified</td>\n",
       "    </tr>\n",
       "  </tbody>\n",
       "</table>\n",
       "</div>"
      ],
      "text/plain": [
       "   ID                                        device          user  rating   \n",
       "0   0  Apple - iPhone 14 128GB - Midnight (Verizon)          BigG     5.0  \\\n",
       "1   1  Apple - iPhone 14 128GB - Midnight (Verizon)       Jp44087     5.0   \n",
       "2   2  Apple - iPhone 14 128GB - Midnight (Verizon)  GamerDadLife     5.0   \n",
       "3   3  Apple - iPhone 14 128GB - Midnight (Verizon)       LevanaP     5.0   \n",
       "4   4  Apple - iPhone 14 128GB - Midnight (Verizon)     Anonymous     5.0   \n",
       "\n",
       "                                                text       date   \n",
       "0  Apple makes the best cellphone on the market h... 2023-02-03  \\\n",
       "1  Ease of use, good battery life, 128gb fits me ... 2023-02-03   \n",
       "2  Love it works great and the red color is the m... 2022-12-24   \n",
       "3  Been a long time iPhone user. This is a awesom... 2023-04-14   \n",
       "4  My wife dropped her phone right AFTER the Appl... 2023-04-15   \n",
       "\n",
       "   ownership_length             pros_mentioned cons_mentioned  \n",
       "0  less than 1 week              Not specified  Not specified  \n",
       "1           3 weeks  Battery life, Ease of use  Not specified  \n",
       "2           2 weeks                      Color  Not specified  \n",
       "3            1 week              Not specified  Not specified  \n",
       "4           3 weeks              Not specified  Not specified  "
      ]
     },
     "execution_count": 3,
     "metadata": {},
     "output_type": "execute_result"
    }
   ],
   "source": [
    "# Check first rows\n",
    "ds.head()"
   ]
  },
  {
   "cell_type": "markdown",
   "metadata": {},
   "source": [
    "### Functions"
   ]
  },
  {
   "cell_type": "code",
   "execution_count": 4,
   "metadata": {},
   "outputs": [],
   "source": [
    "# Text preprocessing\n",
    "def textPreProcess(rawText, removeHTML=True, charsToRemove = r'\\?|\\.|\\!|\\;|\\.|\\\"|\\,|\\(|\\)|\\&|\\:|\\-', removeNumbers=True, removeLineBreaks=False, specialCharsToRemove = r'[^\\x00-\\xfd]', convertToLower=True, removeConsecutiveSpaces=True):\n",
    "    if type(rawText) != str:\n",
    "        return rawText\n",
    "    procText = rawText\n",
    "        \n",
    "    # Remove HTML\n",
    "    if removeHTML:\n",
    "        procText = BeautifulSoup(procText,'html.parser').get_text()\n",
    "\n",
    "    # Remove punctuation and other special characters\n",
    "    if len(charsToRemove)>0:\n",
    "        procText = re.sub(charsToRemove,' ',procText)\n",
    "\n",
    "    # Remove numbers\n",
    "    if removeNumbers:\n",
    "        procText = re.sub(r'\\d+',' ',procText)\n",
    "\n",
    "    # Remove line breaks\n",
    "    if removeLineBreaks:\n",
    "        procText = procText.replace('\\n',' ').replace('\\r', '')\n",
    "\n",
    "    # Remove special characters\n",
    "    if len(specialCharsToRemove)>0:\n",
    "        procText = re.sub(specialCharsToRemove,' ',procText)\n",
    "\n",
    "    # Normalize to lower case\n",
    "    if convertToLower:\n",
    "        procText = procText.lower() \n",
    "\n",
    "    # Replace multiple consecutive spaces with just one space\n",
    "    if removeConsecutiveSpaces:\n",
    "        procText = re.sub(' +', ' ', procText)\n",
    "\n",
    "    return procText"
   ]
  },
  {
   "cell_type": "code",
   "execution_count": 5,
   "metadata": {},
   "outputs": [],
   "source": [
    "# Tokenize words\n",
    "def tokenize_words(words):\n",
    "    if (type(words) != str) or (word_tokenize(words) == ''):\n",
    "        return np.nan\n",
    "    else:\n",
    "        return word_tokenize(words)"
   ]
  },
  {
   "cell_type": "code",
   "execution_count": 6,
   "metadata": {},
   "outputs": [],
   "source": [
    "# Function to create text from words\n",
    "def recreateText(words):\n",
    "    if type(words) == list:\n",
    "        temp_str = (' ').join(words)\n",
    "        return temp_str\n",
    "    else:\n",
    "        return np.nan"
   ]
  },
  {
   "cell_type": "code",
   "execution_count": 7,
   "metadata": {},
   "outputs": [],
   "source": [
    "# Function to break texts into sentences\n",
    "def tokenize_sentences(texts):\n",
    "    s_token = sent_tokenize(texts)\n",
    "    return s_token"
   ]
  },
  {
   "cell_type": "code",
   "execution_count": 8,
   "metadata": {},
   "outputs": [],
   "source": [
    "# Function to remove stop words\n",
    "def removeStopWords(t, stop_words):\n",
    "    if type(t) == list:\n",
    "        return [w for w in t if not w in stop_words]\n",
    "    else:\n",
    "        return np.nan"
   ]
  },
  {
   "cell_type": "markdown",
   "metadata": {},
   "source": [
    "### Analysis"
   ]
  },
  {
   "cell_type": "code",
   "execution_count": 9,
   "metadata": {},
   "outputs": [],
   "source": [
    "def tokenize_sentences(text):\n",
    "    sentences = nltk.sent_tokenize(text)\n",
    "    return \". \".join(sentences)"
   ]
  },
  {
   "cell_type": "code",
   "execution_count": 10,
   "metadata": {},
   "outputs": [],
   "source": [
    "listOfSentences = ds.text.apply(tokenize_sentences)"
   ]
  },
  {
   "cell_type": "code",
   "execution_count": 11,
   "metadata": {},
   "outputs": [
    {
     "name": "stderr",
     "output_type": "stream",
     "text": [
      "C:\\Users\\Adventure.4.Eva.r\\anaconda3\\lib\\site-packages\\bs4\\__init__.py:435: MarkupResemblesLocatorWarning: The input looks more like a filename than markup. You may want to open this file and pass the filehandle into Beautiful Soup.\n",
      "  warnings.warn(\n"
     ]
    }
   ],
   "source": [
    "# Create a dataframe with only the description\n",
    "processedReviews = pd.DataFrame(data=ds.text.apply(textPreProcess,charsToRemove ='', removeLineBreaks=False, removeNumbers=False).values, index=ds.index, columns=['PreProcessedText'])"
   ]
  },
  {
   "cell_type": "code",
   "execution_count": 12,
   "metadata": {},
   "outputs": [
    {
     "data": {
      "text/plain": [
       "'Apple makes the best cellphone on the market hands down'"
      ]
     },
     "execution_count": 12,
     "metadata": {},
     "output_type": "execute_result"
    }
   ],
   "source": [
    "# Check first review\n",
    "ds.text[0]"
   ]
  },
  {
   "cell_type": "code",
   "execution_count": 13,
   "metadata": {},
   "outputs": [
    {
     "data": {
      "text/plain": [
       "'Apple makes the best cellphone on the market hands down'"
      ]
     },
     "execution_count": 13,
     "metadata": {},
     "output_type": "execute_result"
    }
   ],
   "source": [
    "# Sentences of first review\n",
    "listOfSentences[0]"
   ]
  },
  {
   "cell_type": "code",
   "execution_count": 14,
   "metadata": {},
   "outputs": [],
   "source": [
    "# Split sentences and count the number of sentences per review\n",
    "reviews_str = ds['text'].astype(str)\n",
    "sentences = pd.DataFrame(reviews_str.str.split('.').tolist(), index=ds['ID']).stack()\n",
    "sentencesPerReview = [len(elem) for elem in reviews_str.str.split('.')]\n",
    " \n",
    "# Create a new DataFrame with the sentences and their respective IDs\n",
    "sentences.name = 'sentence'\n",
    "sentences.index.names = ['ID', 'sentence_no']\n",
    "sentences = sentences.reset_index().set_index('ID')"
   ]
  },
  {
   "cell_type": "code",
   "execution_count": 15,
   "metadata": {},
   "outputs": [],
   "source": [
    "import re\n",
    "import string\n",
    "\n",
    "def text_preprocess(text):\n",
    "    \"\"\"\n",
    "    Preprocess text data by converting to lowercase, removing punctuation and digits, and removing extra whitespaces.\n",
    "    \"\"\"\n",
    "    # Convert to lowercase\n",
    "    text = text.lower()\n",
    "    # Remove punctuation\n",
    "    text = re.sub(r'[^\\w\\s]', '', text)\n",
    "    # Remove digits\n",
    "    text = re.sub(r'\\d+', '', text)\n",
    "    # Remove extra whitespaces\n",
    "    text = re.sub(r'\\s+', ' ', text)\n",
    "    return text.strip()\n",
    "\n",
    "# Preprocess text \n",
    "sentences['PreProcessedText'] = sentences['sentence'].apply(text_preprocess)"
   ]
  },
  {
   "cell_type": "code",
   "execution_count": 16,
   "metadata": {},
   "outputs": [],
   "source": [
    "# Get words\n",
    "sentences['Words'] =  sentences['PreProcessedText'].apply(tokenize_words)"
   ]
  },
  {
   "cell_type": "code",
   "execution_count": 17,
   "metadata": {},
   "outputs": [
    {
     "name": "stderr",
     "output_type": "stream",
     "text": [
      "[nltk_data] Downloading package stopwords to\n",
      "[nltk_data]     C:\\Users\\Adventure.4.Eva.r\\AppData\\Roaming\\nltk_data..\n",
      "[nltk_data]     .\n",
      "[nltk_data]   Package stopwords is already up-to-date!\n"
     ]
    },
    {
     "data": {
      "text/plain": [
       "True"
      ]
     },
     "execution_count": 17,
     "metadata": {},
     "output_type": "execute_result"
    }
   ],
   "source": [
    "import nltk\n",
    "nltk.download('stopwords')"
   ]
  },
  {
   "cell_type": "code",
   "execution_count": 18,
   "metadata": {},
   "outputs": [],
   "source": [
    "# Remove stopwords\n",
    "stop_words = set(stopwords.words('english'))\n",
    "sentences['WordsCleaned'] = sentences['Words'].apply(removeStopWords,stop_words=stop_words)"
   ]
  },
  {
   "cell_type": "code",
   "execution_count": 19,
   "metadata": {},
   "outputs": [],
   "source": [
    "# Recreate sentence without stopwords\n",
    "sentences['ProcessedText'] = sentences['WordsCleaned'].apply(recreateText)"
   ]
  },
  {
   "cell_type": "code",
   "execution_count": 20,
   "metadata": {},
   "outputs": [],
   "source": [
    "# Create sentiment analysis object\n",
    "analyser = SentimentIntensityAnalyzer()"
   ]
  },
  {
   "cell_type": "code",
   "execution_count": 21,
   "metadata": {},
   "outputs": [
    {
     "name": "stdout",
     "output_type": "stream",
     "text": [
      "apple makes best cellphone market hands {'neg': 0.0, 'neu': 0.543, 'pos': 0.457, 'compound': 0.6369}\n"
     ]
    }
   ],
   "source": [
    "# To test, let's evaluate first sentence of first review\n",
    "# Scales:\n",
    "#   compound: -1:most extreme negative, 1:most extreme positive\n",
    "#     positive: compound >=0.05\n",
    "#     neutral: -0.05<compound<0.05\n",
    "#     negative: compound <= -0.05\n",
    "#   pos, neu, neg: proportion of text that are positive, neutral or negative\n",
    "score = analyser.polarity_scores(sentences['ProcessedText'][0])\n",
    "print(sentences['ProcessedText'][0],score)"
   ]
  },
  {
   "cell_type": "code",
   "execution_count": 22,
   "metadata": {},
   "outputs": [],
   "source": [
    "# Process sentiment for all sentences\n",
    "all_scores = []\n",
    "for t in (sentences['ProcessedText'][:]):\n",
    "  score = analyser.polarity_scores(t)\n",
    "  all_scores.append(score)\n",
    "sentences['Sentiment'] = [c['compound'] for c in all_scores]"
   ]
  },
  {
   "cell_type": "code",
   "execution_count": 26,
   "metadata": {},
   "outputs": [],
   "source": [
    "# Compute review's sentiment as the mean sentiment from its sentences\n",
    "meanByReview = sentences.groupby('ID')['Sentiment'].mean()\n",
    "\n",
    "# Consider sentences with no result as neutral (0)\n",
    "meanByReview = meanByReview.fillna(0)\n",
    "\n",
    "# Add column Sentiment to reviews Dataframe\n",
    "ds['Sentiment'] = meanByReview[ds['ID']].values"
   ]
  },
  {
   "cell_type": "code",
   "execution_count": 28,
   "metadata": {},
   "outputs": [],
   "source": [
    "bins = pd.IntervalIndex.from_tuples([(-1.1, -0.05), (-0.05, 0.05), (0.05, 1)], closed='right')\n",
    "x = pd.cut(ds['Sentiment'].to_list(), bins)\n",
    "x = x.set_categories(['Negative','Neutral','Positive'])\n",
    "ds['Polarity'] = x"
   ]
  },
  {
   "cell_type": "code",
   "execution_count": 29,
   "metadata": {},
   "outputs": [
    {
     "name": "stdout",
     "output_type": "stream",
     "text": [
      "0      Positive\n",
      "1      Positive\n",
      "2      Positive\n",
      "3       Neutral\n",
      "4       Neutral\n",
      "         ...   \n",
      "368     Neutral\n",
      "369    Positive\n",
      "370    Positive\n",
      "371    Negative\n",
      "372    Negative\n",
      "Name: Polarity, Length: 373, dtype: category\n",
      "Categories (3, object): ['Negative' < 'Neutral' < 'Positive']\n"
     ]
    }
   ],
   "source": [
    "import pandas as pd\n",
    "\n",
    "# Define the interval bins and categories\n",
    "bins = pd.IntervalIndex.from_tuples([(-1.1, -0.05), (-0.05, 0.05), (0.05, 1)], closed='right')\n",
    "categories = ['Negative', 'Neutral', 'Positive']\n",
    "\n",
    "# Bin the 'Sentiment' column into the specified categories\n",
    "ds['Polarity'] = pd.cut(ds['Sentiment'], bins=len(categories), labels=categories,right=False)\n",
    "\n",
    "# Print the 'Polarity' column\n",
    "print(ds['Polarity'])"
   ]
  },
  {
   "cell_type": "code",
   "execution_count": 30,
   "metadata": {},
   "outputs": [],
   "source": [
    "import pandas as pd\n",
    "import matplotlib.pyplot as plt\n",
    "\n",
    "# Define the categories\n",
    "categories = ['Negative', 'Neutral', 'Positive']\n",
    "\n",
    "# Bin the 'Sentiment' column into the specified categories\n",
    "ds['Polarity'] = pd.cut(ds['Sentiment'], bins=len(categories), labels=categories, right=False)\n",
    "\n",
    "# Calculate the polarity counts\n",
    "polarity_counts = ds['Polarity'].value_counts()"
   ]
  },
  {
   "cell_type": "code",
   "execution_count": 31,
   "metadata": {},
   "outputs": [
    {
     "data": {
      "text/plain": [
       "Polarity\n",
       "Neutral     205\n",
       "Positive     94\n",
       "Negative     74\n",
       "Name: count, dtype: int64"
      ]
     },
     "execution_count": 31,
     "metadata": {},
     "output_type": "execute_result"
    }
   ],
   "source": [
    "polarity_counts"
   ]
  },
  {
   "cell_type": "code",
   "execution_count": 32,
   "metadata": {},
   "outputs": [
    {
     "data": {
      "image/png": "[encoded data removed]",
      "text/plain": [
       "<Figure size 640x480 with 1 Axes>"
      ]
     },
     "metadata": {},
     "output_type": "display_data"
    }
   ],
   "source": [
    "# Plot a bar chart of polarity counts\n",
    "plt.bar(polarity_counts.index, polarity_counts.values)\n",
    "plt.xlabel('Polarity')\n",
    "plt.ylabel('Count')\n",
    "plt.title('Polarity Distribution')\n",
    "plt.show()"
   ]
  },
  {
   "cell_type": "markdown",
   "metadata": {},
   "source": [
    "This distribution of polarity categories provides an overview of the sentiment expressed in the reviews. It indicates that the majority of the reviews fall under the \"Neutral\" category, while a smaller number of reviews are classified as either \"Positive\" or \"Negative\". This distribution suggests a relatively balanced sentiment among the reviewers, with inclination towards neutrality."
   ]
  },
  {
   "cell_type": "code",
   "execution_count": 33,
   "metadata": {},
   "outputs": [
    {
     "data": {
      "text/html": [
       "<div>\n",
       "<style scoped>\n",
       "    .dataframe tbody tr th:only-of-type {\n",
       "        vertical-align: middle;\n",
       "    }\n",
       "\n",
       "    .dataframe tbody tr th {\n",
       "        vertical-align: top;\n",
       "    }\n",
       "\n",
       "    .dataframe thead th {\n",
       "        text-align: right;\n",
       "    }\n",
       "</style>\n",
       "<table border=\"1\" class=\"dataframe\">\n",
       "  <thead>\n",
       "    <tr style=\"text-align: right;\">\n",
       "      <th></th>\n",
       "      <th>Sentiment</th>\n",
       "    </tr>\n",
       "    <tr>\n",
       "      <th>text</th>\n",
       "      <th></th>\n",
       "    </tr>\n",
       "  </thead>\n",
       "  <tbody>\n",
       "    <tr>\n",
       "      <th>100% love I love my item. THANKS BEST BUY!!!!!...</th>\n",
       "      <td>0.576833</td>\n",
       "    </tr>\n",
       "    <tr>\n",
       "      <th>A fantastic phone!\n",
       "Purchase and transfer was a...</th>\n",
       "      <td>0.432900</td>\n",
       "    </tr>\n",
       "    <tr>\n",
       "      <th>A must have for an upgrade. Bestbuy always has...</th>\n",
       "      <td>0.212300</td>\n",
       "    </tr>\n",
       "    <tr>\n",
       "      <th>A++++ love the camera and the sleek design. Fi...</th>\n",
       "      <td>0.473800</td>\n",
       "    </tr>\n",
       "    <tr>\n",
       "      <th>Absolutely love it, took a bit of setup out of...</th>\n",
       "      <td>0.453050</td>\n",
       "    </tr>\n",
       "    <tr>\n",
       "      <th>...</th>\n",
       "      <td>...</td>\n",
       "    </tr>\n",
       "    <tr>\n",
       "      <th>new to Iphone - had a droid - so trying to nav...</th>\n",
       "      <td>0.077200</td>\n",
       "    </tr>\n",
       "    <tr>\n",
       "      <th>overall a good phone. battery life is great an...</th>\n",
       "      <td>0.532650</td>\n",
       "    </tr>\n",
       "    <tr>\n",
       "      <th>the phone is pretty - I just don't like when s...</th>\n",
       "      <td>0.199900</td>\n",
       "    </tr>\n",
       "    <tr>\n",
       "      <th>updated from a 6s -- while the 6s was still pe...</th>\n",
       "      <td>0.440400</td>\n",
       "    </tr>\n",
       "    <tr>\n",
       "      <th>works like any other phone, i upgraded from 6s...</th>\n",
       "      <td>0.124983</td>\n",
       "    </tr>\n",
       "  </tbody>\n",
       "</table>\n",
       "<p>369 rows × 1 columns</p>\n",
       "</div>"
      ],
      "text/plain": [
       "                                                            \n",
       "text                                               Sentiment\n",
       "100% love I love my item. THANKS BEST BUY!!!!!...           \n",
       "A fantastic phone!                                  0.576833\n",
       "Purchase and transfer was a...                      0.432900\n",
       "A must have for an upgrade. Bestbuy always has...   0.212300\n",
       "A++++ love the camera and the sleek design. Fi...   0.473800\n",
       "Absolutely love it, took a bit of setup out of...   0.453050\n",
       "...                                                 0.077200\n",
       "new to Iphone - had a droid - so trying to nav...        ...\n",
       "overall a good phone. battery life is great an...   0.532650\n",
       "the phone is pretty - I just don't like when s...   0.199900\n",
       "updated from a 6s -- while the 6s was still pe...   0.440400\n",
       "works like any other phone, i upgraded from 6s...   0.124983\n",
       "\n",
       "[369 rows x 1 columns]"
      ]
     },
     "execution_count": 33,
     "metadata": {},
     "output_type": "execute_result"
    }
   ],
   "source": [
    "# Analysis examples:\n",
    "# Mean by hotel \n",
    "ex1 = ds.groupby('text')['Sentiment'].mean().to_frame()\n",
    "ex1"
   ]
  },
  {
   "cell_type": "markdown",
   "metadata": {},
   "source": [
    "These sentiment scores represent the sentiment expressed in the corresponding titles. Positive sentiment scores indicate positive sentiment, while negative sentiment scores indicate negative sentiment. A sentiment score of 0 suggests a neutral sentiment.\n",
    "\n",
    "These scores can be used to gauge the overall sentiment associated with each title. Titles with higher positive sentiment scores generally indicate positive experiences or opinions, while titles with negative sentiment scores may indicate negative experiences or issues. Titles with scores close to 0 suggest a neutral sentiment or mixed opinions.\n",
    "\n",
    "It's important to note that the sentiment scores are numerical representations of sentiment and should be interpreted in the context of the specific analysis or application."
   ]
  },
  {
   "cell_type": "code",
   "execution_count": 37,
   "metadata": {},
   "outputs": [
    {
     "data": {
      "text/html": [
       "<div>\n",
       "<style scoped>\n",
       "    .dataframe tbody tr th:only-of-type {\n",
       "        vertical-align: middle;\n",
       "    }\n",
       "\n",
       "    .dataframe tbody tr th {\n",
       "        vertical-align: top;\n",
       "    }\n",
       "\n",
       "    .dataframe thead th {\n",
       "        text-align: right;\n",
       "    }\n",
       "</style>\n",
       "<table border=\"1\" class=\"dataframe\">\n",
       "  <thead>\n",
       "    <tr style=\"text-align: right;\">\n",
       "      <th></th>\n",
       "      <th>text</th>\n",
       "      <th>ID</th>\n",
       "      <th>Sentiment</th>\n",
       "    </tr>\n",
       "  </thead>\n",
       "  <tbody>\n",
       "    <tr>\n",
       "      <th>0</th>\n",
       "      <td>100% love I love my item. THANKS BEST BUY!!!!!...</td>\n",
       "      <td>302.0</td>\n",
       "      <td>0.576833</td>\n",
       "    </tr>\n",
       "    <tr>\n",
       "      <th>1</th>\n",
       "      <td>A fantastic phone!\n",
       "Purchase and transfer was a...</td>\n",
       "      <td>158.0</td>\n",
       "      <td>0.432900</td>\n",
       "    </tr>\n",
       "    <tr>\n",
       "      <th>2</th>\n",
       "      <td>A must have for an upgrade. Bestbuy always has...</td>\n",
       "      <td>132.0</td>\n",
       "      <td>0.212300</td>\n",
       "    </tr>\n",
       "    <tr>\n",
       "      <th>3</th>\n",
       "      <td>A++++ love the camera and the sleek design. Fi...</td>\n",
       "      <td>227.0</td>\n",
       "      <td>0.473800</td>\n",
       "    </tr>\n",
       "    <tr>\n",
       "      <th>4</th>\n",
       "      <td>Absolutely love it, took a bit of setup out of...</td>\n",
       "      <td>34.0</td>\n",
       "      <td>0.453050</td>\n",
       "    </tr>\n",
       "    <tr>\n",
       "      <th>...</th>\n",
       "      <td>...</td>\n",
       "      <td>...</td>\n",
       "      <td>...</td>\n",
       "    </tr>\n",
       "    <tr>\n",
       "      <th>364</th>\n",
       "      <td>new to Iphone - had a droid - so trying to nav...</td>\n",
       "      <td>11.0</td>\n",
       "      <td>0.077200</td>\n",
       "    </tr>\n",
       "    <tr>\n",
       "      <th>365</th>\n",
       "      <td>overall a good phone. battery life is great an...</td>\n",
       "      <td>340.0</td>\n",
       "      <td>0.532650</td>\n",
       "    </tr>\n",
       "    <tr>\n",
       "      <th>366</th>\n",
       "      <td>the phone is pretty - I just don't like when s...</td>\n",
       "      <td>8.0</td>\n",
       "      <td>0.199900</td>\n",
       "    </tr>\n",
       "    <tr>\n",
       "      <th>367</th>\n",
       "      <td>updated from a 6s -- while the 6s was still pe...</td>\n",
       "      <td>217.0</td>\n",
       "      <td>0.440400</td>\n",
       "    </tr>\n",
       "    <tr>\n",
       "      <th>368</th>\n",
       "      <td>works like any other phone, i upgraded from 6s...</td>\n",
       "      <td>264.0</td>\n",
       "      <td>0.124983</td>\n",
       "    </tr>\n",
       "  </tbody>\n",
       "</table>\n",
       "<p>369 rows × 3 columns</p>\n",
       "</div>"
      ],
      "text/plain": [
       "                                                  text     ID  Sentiment\n",
       "0    100% love I love my item. THANKS BEST BUY!!!!!...  302.0   0.576833\n",
       "1    A fantastic phone!\n",
       "Purchase and transfer was a...  158.0   0.432900\n",
       "2    A must have for an upgrade. Bestbuy always has...  132.0   0.212300\n",
       "3    A++++ love the camera and the sleek design. Fi...  227.0   0.473800\n",
       "4    Absolutely love it, took a bit of setup out of...   34.0   0.453050\n",
       "..                                                 ...    ...        ...\n",
       "364  new to Iphone - had a droid - so trying to nav...   11.0   0.077200\n",
       "365  overall a good phone. battery life is great an...  340.0   0.532650\n",
       "366  the phone is pretty - I just don't like when s...    8.0   0.199900\n",
       "367  updated from a 6s -- while the 6s was still pe...  217.0   0.440400\n",
       "368  works like any other phone, i upgraded from 6s...  264.0   0.124983\n",
       "\n",
       "[369 rows x 3 columns]"
      ]
     },
     "execution_count": 37,
     "metadata": {},
     "output_type": "execute_result"
    }
   ],
   "source": [
    "# Analysis examples:\n",
    "# Mean by hotel stars and type\n",
    "ex2 = ds[['ID','text','Sentiment']].groupby(['text'], as_index=False).mean()\n",
    "ex2"
   ]
  },
  {
   "cell_type": "markdown",
   "metadata": {},
   "source": [
    "The sentiment scores represent the sentiment expressed in each review. Positive sentiment scores indicate positive sentiment, negative scores indicate negative sentiment, and a score of 0 suggests a neutral sentiment.\n",
    "\n",
    "These scores can be used to analyze the sentiment of the reviews. Higher positive sentiment scores indicate more positive opinions or experiences expressed in the review, while negative sentiment scores may indicate negative experiences or issues. Reviews with scores close to 0 suggest a neutral sentiment or mixed opinions.\n",
    "\n",
    "It's important to note that the sentiment scores are numerical representations of sentiment and should be interpreted in the context of the specific analysis or application."
   ]
  },
  {
   "cell_type": "code",
   "execution_count": 38,
   "metadata": {},
   "outputs": [
    {
     "data": {
      "text/html": [
       "<div>\n",
       "<style scoped>\n",
       "    .dataframe tbody tr th:only-of-type {\n",
       "        vertical-align: middle;\n",
       "    }\n",
       "\n",
       "    .dataframe tbody tr th {\n",
       "        vertical-align: top;\n",
       "    }\n",
       "\n",
       "    .dataframe thead th {\n",
       "        text-align: right;\n",
       "    }\n",
       "</style>\n",
       "<table border=\"1\" class=\"dataframe\">\n",
       "  <thead>\n",
       "    <tr style=\"text-align: right;\">\n",
       "      <th></th>\n",
       "      <th></th>\n",
       "      <th>Sentiment</th>\n",
       "    </tr>\n",
       "    <tr>\n",
       "      <th>device</th>\n",
       "      <th>Polarity</th>\n",
       "      <th></th>\n",
       "    </tr>\n",
       "  </thead>\n",
       "  <tbody>\n",
       "    <tr>\n",
       "      <th rowspan=\"3\" valign=\"top\">Apple - iPhone 14 128GB - Midnight (AT&amp;T)</th>\n",
       "      <th>Negative</th>\n",
       "      <td>0.038125</td>\n",
       "    </tr>\n",
       "    <tr>\n",
       "      <th>Neutral</th>\n",
       "      <td>0.354841</td>\n",
       "    </tr>\n",
       "    <tr>\n",
       "      <th>Positive</th>\n",
       "      <td>0.698296</td>\n",
       "    </tr>\n",
       "    <tr>\n",
       "      <th rowspan=\"3\" valign=\"top\">Apple - iPhone 14 128GB - Midnight (Verizon)</th>\n",
       "      <th>Negative</th>\n",
       "      <td>0.020785</td>\n",
       "    </tr>\n",
       "    <tr>\n",
       "      <th>Neutral</th>\n",
       "      <td>0.351317</td>\n",
       "    </tr>\n",
       "    <tr>\n",
       "      <th>Positive</th>\n",
       "      <td>0.768759</td>\n",
       "    </tr>\n",
       "    <tr>\n",
       "      <th rowspan=\"3\" valign=\"top\">Apple - iPhone 14 128GB - Purple (T-Mobile)</th>\n",
       "      <th>Negative</th>\n",
       "      <td>0.035446</td>\n",
       "    </tr>\n",
       "    <tr>\n",
       "      <th>Neutral</th>\n",
       "      <td>0.344300</td>\n",
       "    </tr>\n",
       "    <tr>\n",
       "      <th>Positive</th>\n",
       "      <td>0.781462</td>\n",
       "    </tr>\n",
       "    <tr>\n",
       "      <th rowspan=\"3\" valign=\"top\">Apple - iPhone 14 256GB - Midnight (AT&amp;T)</th>\n",
       "      <th>Negative</th>\n",
       "      <td>0.032530</td>\n",
       "    </tr>\n",
       "    <tr>\n",
       "      <th>Neutral</th>\n",
       "      <td>0.409090</td>\n",
       "    </tr>\n",
       "    <tr>\n",
       "      <th>Positive</th>\n",
       "      <td>0.772125</td>\n",
       "    </tr>\n",
       "    <tr>\n",
       "      <th rowspan=\"3\" valign=\"top\">Apple - iPhone 14 256GB - Midnight (T-Mobile)</th>\n",
       "      <th>Negative</th>\n",
       "      <td>0.096295</td>\n",
       "    </tr>\n",
       "    <tr>\n",
       "      <th>Neutral</th>\n",
       "      <td>0.327379</td>\n",
       "    </tr>\n",
       "    <tr>\n",
       "      <th>Positive</th>\n",
       "      <td>0.768933</td>\n",
       "    </tr>\n",
       "    <tr>\n",
       "      <th rowspan=\"3\" valign=\"top\">Apple - iPhone 14 256GB - Purple (Verizon)</th>\n",
       "      <th>Negative</th>\n",
       "      <td>0.067651</td>\n",
       "    </tr>\n",
       "    <tr>\n",
       "      <th>Neutral</th>\n",
       "      <td>0.330401</td>\n",
       "    </tr>\n",
       "    <tr>\n",
       "      <th>Positive</th>\n",
       "      <td>0.859700</td>\n",
       "    </tr>\n",
       "    <tr>\n",
       "      <th rowspan=\"3\" valign=\"top\">Apple - iPhone 14 512GB - Midnight (AT&amp;T)</th>\n",
       "      <th>Negative</th>\n",
       "      <td>NaN</td>\n",
       "    </tr>\n",
       "    <tr>\n",
       "      <th>Neutral</th>\n",
       "      <td>0.344650</td>\n",
       "    </tr>\n",
       "    <tr>\n",
       "      <th>Positive</th>\n",
       "      <td>NaN</td>\n",
       "    </tr>\n",
       "    <tr>\n",
       "      <th rowspan=\"3\" valign=\"top\">Apple - iPhone 14 512GB - Yellow (Verizon)</th>\n",
       "      <th>Negative</th>\n",
       "      <td>0.000000</td>\n",
       "    </tr>\n",
       "    <tr>\n",
       "      <th>Neutral</th>\n",
       "      <td>NaN</td>\n",
       "    </tr>\n",
       "    <tr>\n",
       "      <th>Positive</th>\n",
       "      <td>NaN</td>\n",
       "    </tr>\n",
       "  </tbody>\n",
       "</table>\n",
       "</div>"
      ],
      "text/plain": [
       "                                                        Sentiment\n",
       "device                                        Polarity           \n",
       "Apple - iPhone 14 128GB - Midnight (AT&T)     Negative   0.038125\n",
       "                                              Neutral    0.354841\n",
       "                                              Positive   0.698296\n",
       "Apple - iPhone 14 128GB - Midnight (Verizon)  Negative   0.020785\n",
       "                                              Neutral    0.351317\n",
       "                                              Positive   0.768759\n",
       "Apple - iPhone 14 128GB - Purple (T-Mobile)   Negative   0.035446\n",
       "                                              Neutral    0.344300\n",
       "                                              Positive   0.781462\n",
       "Apple - iPhone 14 256GB - Midnight (AT&T)     Negative   0.032530\n",
       "                                              Neutral    0.409090\n",
       "                                              Positive   0.772125\n",
       "Apple - iPhone 14 256GB - Midnight (T-Mobile) Negative   0.096295\n",
       "                                              Neutral    0.327379\n",
       "                                              Positive   0.768933\n",
       "Apple - iPhone 14 256GB - Purple (Verizon)    Negative   0.067651\n",
       "                                              Neutral    0.330401\n",
       "                                              Positive   0.859700\n",
       "Apple - iPhone 14 512GB - Midnight (AT&T)     Negative        NaN\n",
       "                                              Neutral    0.344650\n",
       "                                              Positive        NaN\n",
       "Apple - iPhone 14 512GB - Yellow (Verizon)    Negative   0.000000\n",
       "                                              Neutral         NaN\n",
       "                                              Positive        NaN"
      ]
     },
     "execution_count": 38,
     "metadata": {},
     "output_type": "execute_result"
    }
   ],
   "source": [
    "# Analysis examples:\n",
    "# By title and polarity\n",
    "ex3 = ds.groupby(['device', 'Polarity'])['Sentiment'].mean().to_frame()\n",
    "ex3"
   ]
  },
  {
   "cell_type": "markdown",
   "metadata": {},
   "source": [
    "The sentiment scores for each polarity category (negative, neutral, positive) represent the sentiment expressed in the respective titles. Negative scores indicate negative sentiment, positive scores indicate positive sentiment, and NaN values indicate missing sentiment data.\n",
    "\n",
    "These scores can be used to analyze the sentiment distribution across different titles and polarities. It appears that some titles have sentiment scores for multiple polarities, while others have scores for only one or two polarities.\n",
    "\n",
    "It's important to consider that the interpretation of sentiment scores depends on the specific sentiment analysis method used and the context of the data. The absence of sentiment scores (NaN values) for certain polarities may indicate a lack of sentiment information or missing data for those categories."
   ]
  },
  {
   "cell_type": "code",
   "execution_count": 39,
   "metadata": {},
   "outputs": [
    {
     "name": "stdout",
     "output_type": "stream",
     "text": [
      "                                                   text  Polarity  Sentiment\n",
      "0     100% love I love my item. THANKS BEST BUY!!!!!...  Negative        NaN\n",
      "1     100% love I love my item. THANKS BEST BUY!!!!!...   Neutral        NaN\n",
      "2     100% love I love my item. THANKS BEST BUY!!!!!...  Positive   0.576833\n",
      "3     A fantastic phone!\n",
      "Purchase and transfer was a...  Negative        NaN\n",
      "4     A fantastic phone!\n",
      "Purchase and transfer was a...   Neutral   0.432900\n",
      "...                                                 ...       ...        ...\n",
      "1102  updated from a 6s -- while the 6s was still pe...   Neutral   0.440400\n",
      "1103  updated from a 6s -- while the 6s was still pe...  Positive        NaN\n",
      "1104  works like any other phone, i upgraded from 6s...  Negative   0.124983\n",
      "1105  works like any other phone, i upgraded from 6s...   Neutral        NaN\n",
      "1106  works like any other phone, i upgraded from 6s...  Positive        NaN\n",
      "\n",
      "[1107 rows x 3 columns]\n"
     ]
    }
   ],
   "source": [
    "# Analysis examples:\n",
    "# By reviews and polarity\n",
    "# Calculate the mean sentiment polarity for each combination of reviews and polarity\n",
    "ex4 = ds.groupby(['text', 'Polarity'], as_index=False)['Sentiment'].mean()\n",
    "\n",
    "# Print the result\n",
    "print(ex4)"
   ]
  },
  {
   "cell_type": "markdown",
   "metadata": {},
   "source": [
    "The sentiment scores indicate the sentiment expressed in each review, with higher scores indicating more positive sentiment. However, it's important to note that the sentiment scores might have been generated using a specific sentiment analysis method, and the interpretation of the scores may vary.\n",
    "\n",
    "The data can be further analyzed to examine the sentiment distribution across different polarities and to gain insights into the overall sentiment expressed in the reviews."
   ]
  },
  {
   "cell_type": "markdown",
   "metadata": {},
   "source": [
    "### Conclution\n",
    "Based on the provided data, which includes reviews, polarity, and sentiment scores, we can draw the following overall conclusions:\n",
    "\n",
    "Polarity Distribution: The majority of the reviews in the dataset fall under the \"Neutral\" category, with a count of 205. The \"Positive\" category has 94 reviews, while the \"Negative\" category has 74 reviews. This distribution indicates that a significant portion of the reviews express a neutral sentiment, with a smaller number of reviews leaning towards positive or negative sentiments.\n",
    "\n",
    "Sentiment Scores by Title: The sentiment scores associated with each title provide a measure of sentiment for that particular review. For example, the title \"100% love I love my item. THANKS BEST BUY!!!!!\" has a sentiment score of 0.576833, indicating a positive sentiment. On the other hand, the title \"A fantastic phone! Purchase and transfer was a...\" has a sentiment score of 0.432900, suggesting a slightly positive sentiment.\n",
    "\n",
    "Sentiment Scores by Title and Type: The sentiment scores analyzed by title and sentiment category (Negative, Neutral, Positive) reveal the sentiment expressed in each review. For instance, the review with the title \"100% love I love my item. THANKS BEST BUY!!!!!\" has a sentiment score of 0.576833, classifying it as \"Positive.\" The sentiment score for the same review in the \"Negative\" category is NaN, indicating no negative sentiment expressed in that review.\n",
    "\n",
    "Sentiment Scores by Device and Polarity: The sentiment scores analyzed by device and polarity provide insights into the sentiment associated with different devices. For example, the device \"Apple - iPhone 14 128GB - Midnight (AT&T)\" has sentiment scores of 0.038125 (Negative), 0.354841 (Neutral), and 0.698296 (Positive). This suggests that the sentiment expressed for this particular device ranges from negative to positive, with a neutral sentiment being the most prevalent.\n",
    "\n",
    "Interpretation of Sentiment: It's important to consider the methodology used to generate the sentiment scores and the context of the reviews. The sentiment scores might have been calculated using a specific sentiment analysis technique, which may have limitations in accurately capturing the nuanced sentiment expressed in the text. Therefore, interpreting the sentiment scores should be done with caution.\n",
    "\n",
    "Overall, the data suggests a mix of sentiments expressed in the reviews, with a notable number of reviews falling under the neutral polarity. Further analysis and exploration of the reviews and sentiment scores can provide more detailed insights into the sentiments of the reviewers towards the subject of the reviews (e.g., Apple products, specific topics, etc.)."
   ]
  }
 ],
 "metadata": {
  "kernelspec": {
   "display_name": "Python 3 (ipykernel)",
   "language": "python",
   "name": "python3"
  },
  "language_info": {
   "codemirror_mode": {
    "name": "ipython",
    "version": 3
   },
   "file_extension": ".py",
   "mimetype": "text/x-python",
   "name": "python",
   "nbconvert_exporter": "python",
   "pygments_lexer": "ipython3",
   "version": "3.9.13"
  },
  "vscode": {
   "interpreter": {
    "hash": "d7a18bc08bf6b314cad8b0dd8f53415ad78d1015cc806d14e4873c235fb4e191"
   }
  }
 },
 "nbformat": 4,
 "nbformat_minor": 2
}
