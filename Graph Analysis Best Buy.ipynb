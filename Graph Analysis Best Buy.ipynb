{
 "cells": [
  {
   "cell_type": "markdown",
   "metadata": {},
   "source": [
    "# Social Media Analytics\n",
    "## Project 3\n",
    "## Graph Analysis - Creating Graphs to Analyze in Gephi (Best Buy Reviews)\n"
   ]
  },
  {
   "cell_type": "markdown",
   "metadata": {},
   "source": [
    "NOTE: To run properly, this code requires the latest version of the packages. If it gives an error, run \"pip install --upgrade pip\" and then \"pip install --upgrade networkx scipy pandas-profiling numpy\" in your terminal."
   ]
  },
  {
   "cell_type": "markdown",
   "metadata": {},
   "source": [
    "### Initial Setup"
   ]
  },
  {
   "cell_type": "code",
   "execution_count": 13,
   "metadata": {},
   "outputs": [],
   "source": [
    "import pandas as pd\n",
    "from collections import Counter\n",
    "import networkx as nx\n",
    "import scipy.sparse as sp\n",
    "from scipy.sparse import coo_matrix\n",
    "import numpy as np\n",
    "from bs4 import BeautifulSoup\n",
    "import re\n",
    "import nltk\n",
    "from nltk.tokenize import word_tokenize\n",
    "from rake_nltk import Rake\n",
    "from nltk.corpus import stopwords\n",
    "from nltk import pos_tag\n",
    "from nltk.corpus import wordnet"
   ]
  },
  {
   "cell_type": "code",
   "execution_count": 14,
   "metadata": {},
   "outputs": [],
   "source": [
    "# Import data\n",
    "df = pd.DataFrame(pd.read_excel(\"https://github.com/Alito06/FinalProjectSMA/raw/main/ExtractedReviewsDataCollection_bestbuy.xlsx\"))"
   ]
  },
  {
   "cell_type": "code",
   "execution_count": 15,
   "metadata": {},
   "outputs": [
    {
     "data": {
      "text/html": [
       "<div>\n",
       "<style scoped>\n",
       "    .dataframe tbody tr th:only-of-type {\n",
       "        vertical-align: middle;\n",
       "    }\n",
       "\n",
       "    .dataframe tbody tr th {\n",
       "        vertical-align: top;\n",
       "    }\n",
       "\n",
       "    .dataframe thead th {\n",
       "        text-align: right;\n",
       "    }\n",
       "</style>\n",
       "<table border=\"1\" class=\"dataframe\">\n",
       "  <thead>\n",
       "    <tr style=\"text-align: right;\">\n",
       "      <th></th>\n",
       "      <th>Unnamed: 0</th>\n",
       "      <th>device</th>\n",
       "      <th>user</th>\n",
       "      <th>rating</th>\n",
       "      <th>text</th>\n",
       "      <th>date</th>\n",
       "      <th>ownership_length</th>\n",
       "    </tr>\n",
       "  </thead>\n",
       "  <tbody>\n",
       "    <tr>\n",
       "      <th>0</th>\n",
       "      <td>0</td>\n",
       "      <td>Apple - iPhone 14 128GB - Midnight (Verizon)</td>\n",
       "      <td>BigG</td>\n",
       "      <td>5</td>\n",
       "      <td>Apple makes the best cellphone on the market h...</td>\n",
       "      <td>2023-02-03</td>\n",
       "      <td>less than 1 week</td>\n",
       "    </tr>\n",
       "    <tr>\n",
       "      <th>1</th>\n",
       "      <td>1</td>\n",
       "      <td>Apple - iPhone 14 128GB - Midnight (Verizon)</td>\n",
       "      <td>Jp44087</td>\n",
       "      <td>5</td>\n",
       "      <td>Ease of use, good battery life, 128gb fits me ...</td>\n",
       "      <td>2023-02-03</td>\n",
       "      <td>3 weeks</td>\n",
       "    </tr>\n",
       "    <tr>\n",
       "      <th>2</th>\n",
       "      <td>2</td>\n",
       "      <td>Apple - iPhone 14 128GB - Midnight (Verizon)</td>\n",
       "      <td>GamerDadLife</td>\n",
       "      <td>5</td>\n",
       "      <td>Love it works great and the red color is the m...</td>\n",
       "      <td>2022-12-24</td>\n",
       "      <td>2 weeks</td>\n",
       "    </tr>\n",
       "    <tr>\n",
       "      <th>3</th>\n",
       "      <td>3</td>\n",
       "      <td>Apple - iPhone 14 128GB - Midnight (Verizon)</td>\n",
       "      <td>LevanaP</td>\n",
       "      <td>5</td>\n",
       "      <td>Been a long time iPhone user. This is a awesom...</td>\n",
       "      <td>2023-04-14</td>\n",
       "      <td>1 week</td>\n",
       "    </tr>\n",
       "    <tr>\n",
       "      <th>4</th>\n",
       "      <td>4</td>\n",
       "      <td>Apple - iPhone 14 128GB - Midnight (Verizon)</td>\n",
       "      <td>Anonymous</td>\n",
       "      <td>5</td>\n",
       "      <td>My wife dropped her phone right AFTER the Appl...</td>\n",
       "      <td>2023-04-15</td>\n",
       "      <td>3 weeks</td>\n",
       "    </tr>\n",
       "    <tr>\n",
       "      <th>...</th>\n",
       "      <td>...</td>\n",
       "      <td>...</td>\n",
       "      <td>...</td>\n",
       "      <td>...</td>\n",
       "      <td>...</td>\n",
       "      <td>...</td>\n",
       "      <td>...</td>\n",
       "    </tr>\n",
       "    <tr>\n",
       "      <th>369</th>\n",
       "      <td>369</td>\n",
       "      <td>Apple - iPhone 14 128GB - Purple (T-Mobile)</td>\n",
       "      <td>Heart</td>\n",
       "      <td>3</td>\n",
       "      <td>Value for the $$$. Security a headache. It is ...</td>\n",
       "      <td>2023-02-24</td>\n",
       "      <td>1 week</td>\n",
       "    </tr>\n",
       "    <tr>\n",
       "      <th>370</th>\n",
       "      <td>370</td>\n",
       "      <td>Apple - iPhone 14 128GB - Purple (T-Mobile)</td>\n",
       "      <td>CharlesK</td>\n",
       "      <td>5</td>\n",
       "      <td>My mom got this and she loves this phone the n...</td>\n",
       "      <td>2023-01-08</td>\n",
       "      <td>Unknown</td>\n",
       "    </tr>\n",
       "    <tr>\n",
       "      <th>371</th>\n",
       "      <td>371</td>\n",
       "      <td>Apple - iPhone 14 128GB - Purple (T-Mobile)</td>\n",
       "      <td>Darklight</td>\n",
       "      <td>5</td>\n",
       "      <td>I loved it because the camra looks great abd d...</td>\n",
       "      <td>2022-09-19</td>\n",
       "      <td>Unknown</td>\n",
       "    </tr>\n",
       "    <tr>\n",
       "      <th>372</th>\n",
       "      <td>372</td>\n",
       "      <td>Apple - iPhone 14 128GB - Purple (T-Mobile)</td>\n",
       "      <td>user482290</td>\n",
       "      <td>1</td>\n",
       "      <td>I went into the store with my wife and child t...</td>\n",
       "      <td>2023-02-05</td>\n",
       "      <td>Unknown</td>\n",
       "    </tr>\n",
       "    <tr>\n",
       "      <th>373</th>\n",
       "      <td>373</td>\n",
       "      <td>Apple - iPhone 14 128GB - Purple (T-Mobile)</td>\n",
       "      <td>user849170</td>\n",
       "      <td>1</td>\n",
       "      <td>The camera did not work and I had to get a rep...</td>\n",
       "      <td>2022-11-18</td>\n",
       "      <td>Unknown</td>\n",
       "    </tr>\n",
       "  </tbody>\n",
       "</table>\n",
       "<p>374 rows × 7 columns</p>\n",
       "</div>"
      ],
      "text/plain": [
       "     Unnamed: 0                                        device          user  \\\n",
       "0             0  Apple - iPhone 14 128GB - Midnight (Verizon)          BigG   \n",
       "1             1  Apple - iPhone 14 128GB - Midnight (Verizon)       Jp44087   \n",
       "2             2  Apple - iPhone 14 128GB - Midnight (Verizon)  GamerDadLife   \n",
       "3             3  Apple - iPhone 14 128GB - Midnight (Verizon)       LevanaP   \n",
       "4             4  Apple - iPhone 14 128GB - Midnight (Verizon)     Anonymous   \n",
       "..          ...                                           ...           ...   \n",
       "369         369   Apple - iPhone 14 128GB - Purple (T-Mobile)         Heart   \n",
       "370         370   Apple - iPhone 14 128GB - Purple (T-Mobile)      CharlesK   \n",
       "371         371   Apple - iPhone 14 128GB - Purple (T-Mobile)     Darklight   \n",
       "372         372   Apple - iPhone 14 128GB - Purple (T-Mobile)    user482290   \n",
       "373         373   Apple - iPhone 14 128GB - Purple (T-Mobile)    user849170   \n",
       "\n",
       "     rating                                               text       date  \\\n",
       "0         5  Apple makes the best cellphone on the market h... 2023-02-03   \n",
       "1         5  Ease of use, good battery life, 128gb fits me ... 2023-02-03   \n",
       "2         5  Love it works great and the red color is the m... 2022-12-24   \n",
       "3         5  Been a long time iPhone user. This is a awesom... 2023-04-14   \n",
       "4         5  My wife dropped her phone right AFTER the Appl... 2023-04-15   \n",
       "..      ...                                                ...        ...   \n",
       "369       3  Value for the $$$. Security a headache. It is ... 2023-02-24   \n",
       "370       5  My mom got this and she loves this phone the n... 2023-01-08   \n",
       "371       5  I loved it because the camra looks great abd d... 2022-09-19   \n",
       "372       1  I went into the store with my wife and child t... 2023-02-05   \n",
       "373       1  The camera did not work and I had to get a rep... 2022-11-18   \n",
       "\n",
       "     ownership_length  \n",
       "0    less than 1 week  \n",
       "1             3 weeks  \n",
       "2             2 weeks  \n",
       "3              1 week  \n",
       "4             3 weeks  \n",
       "..                ...  \n",
       "369            1 week  \n",
       "370           Unknown  \n",
       "371           Unknown  \n",
       "372           Unknown  \n",
       "373           Unknown  \n",
       "\n",
       "[374 rows x 7 columns]"
      ]
     },
     "execution_count": 15,
     "metadata": {},
     "output_type": "execute_result"
    }
   ],
   "source": [
    "df"
   ]
  },
  {
   "cell_type": "markdown",
   "metadata": {},
   "source": [
    "### Data Preprocessing"
   ]
  },
  {
   "cell_type": "code",
   "execution_count": 16,
   "metadata": {},
   "outputs": [],
   "source": [
    "# Defining the text preprocessing function\n",
    "def textPreProcess(rawText, removeHTML=True, charsToRemove = r'\\?|\\.|\\!|\\;|\\.|\\\"|\\,|\\(|\\)|\\&|\\:|\\-|\\$', removeNumbers=True, removeLineBreaks=False, specialCharsToRemove = r'[^\\x00-\\xfd]', convertToLower=True, removeConsecutiveSpaces=True):\n",
    "    if type(rawText) != str:\n",
    "        return rawText\n",
    "    procText = rawText\n",
    "        \n",
    "    # Remove HTML\n",
    "    if removeHTML:\n",
    "        procText = BeautifulSoup(procText,'html.parser').get_text()\n",
    "\n",
    "    # Remove punctuation and other special characters\n",
    "    if len(charsToRemove)>0:\n",
    "        procText = re.sub(charsToRemove,' ',procText)\n",
    "\n",
    "    # Remove numbers\n",
    "    if removeNumbers:\n",
    "        procText = re.sub(r'\\d+',' ',procText)\n",
    "\n",
    "    # Remove line breaks\n",
    "    if removeLineBreaks:\n",
    "        procText = procText.replace('\\n',' ').replace('\\r', '')\n",
    "\n",
    "    # Remove special characters\n",
    "    if len(specialCharsToRemove)>0:\n",
    "        procText = re.sub(specialCharsToRemove,' ',procText)\n",
    "\n",
    "    # Normalize to lower case\n",
    "    if convertToLower:\n",
    "        procText = procText.lower() \n",
    "\n",
    "    # Replace multiple consecutive spaces with just one space\n",
    "    if removeConsecutiveSpaces:\n",
    "        procText = re.sub(' +', ' ', procText)\n",
    "\n",
    "    return procText"
   ]
  },
  {
   "cell_type": "code",
   "execution_count": 17,
   "metadata": {},
   "outputs": [],
   "source": [
    "# Tokenize words\n",
    "def tokenize_words(words):\n",
    "    if (type(words) != str) or (word_tokenize(words) == ''):\n",
    "        return np.nan\n",
    "    else:\n",
    "        return word_tokenize(words)"
   ]
  },
  {
   "cell_type": "code",
   "execution_count": 18,
   "metadata": {},
   "outputs": [
    {
     "name": "stderr",
     "output_type": "stream",
     "text": [
      "c:\\Users\\Felix\\anaconda3\\lib\\site-packages\\bs4\\__init__.py:435: MarkupResemblesLocatorWarning: The input looks more like a filename than markup. You may want to open this file and pass the filehandle into Beautiful Soup.\n",
      "  warnings.warn(\n"
     ]
    }
   ],
   "source": [
    "# Create a dataframe with only the description and apply the text preprocessing function\n",
    "processedReviews = pd.DataFrame(data=df.text.apply(textPreProcess, removeNumbers=False).values, index=df.index, columns=['PreProcessedText'])"
   ]
  },
  {
   "cell_type": "markdown",
   "metadata": {},
   "source": [
    "### Graph Creation"
   ]
  },
  {
   "cell_type": "code",
   "execution_count": 19,
   "metadata": {},
   "outputs": [],
   "source": [
    "# Extracting the 'PreProcessedText' column from the 'processedReviews' DataFrame and converting it to a list\n",
    "reviews = processedReviews['PreProcessedText'].tolist()"
   ]
  },
  {
   "cell_type": "code",
   "execution_count": 20,
   "metadata": {},
   "outputs": [],
   "source": [
    "# Creating an empty list to store words\n",
    "words = []\n",
    "# Iterating over each review in the 'reviews' list\n",
    "for review in reviews:\n",
    "    # Converting the review text to lowercase and splitting it into individual words\n",
    "    words += review.lower().split()\n",
    "# Counting the frequency of each word\n",
    "word_freq = Counter(words)"
   ]
  },
  {
   "cell_type": "code",
   "execution_count": 21,
   "metadata": {},
   "outputs": [],
   "source": [
    "# Creating a graph\n",
    "G = nx.Graph()\n",
    "# Defining stop words\n",
    "stop_words = set(stopwords.words('english'))\n",
    "# Adding to the graph the words not in the stop words list\n",
    "for word, freq in word_freq.items():\n",
    "    if word not in stop_words:\n",
    "        G.add_node(word, size=freq)\n",
    "    else:\n",
    "        continue"
   ]
  },
  {
   "cell_type": "code",
   "execution_count": 22,
   "metadata": {},
   "outputs": [],
   "source": [
    "# Iterate over each review\n",
    "for review in reviews:\n",
    "    # Convert the review to lowercase and split it into individual words\n",
    "    review_words = review.lower().split()\n",
    "\n",
    "    # Iterate over each word in the review\n",
    "    for i in range(len(review_words)):\n",
    "        # Iterate over the remaining words in the review\n",
    "        for j in range(i+1, len(review_words)):\n",
    "            # Check if there is an edge between the two words in the graph G\n",
    "            if G.has_edge(review_words[i], review_words[j]):\n",
    "                # If an edge exists, increment the weight attribute of the edge by 1\n",
    "                G[review_words[i]][review_words[j]]['weight'] += 1\n",
    "            else:\n",
    "                # If an edge does not exist, add a new edge with weight 1 to the graph G\n",
    "                G.add_edge(review_words[i], review_words[j], weight=1)"
   ]
  },
  {
   "cell_type": "code",
   "execution_count": 23,
   "metadata": {},
   "outputs": [],
   "source": [
    "# Create a dictionary that maps each node name to a unique integer index\n",
    "node_index = {node_name: i for i, node_name in enumerate(G.nodes())}"
   ]
  },
  {
   "cell_type": "code",
   "execution_count": 24,
   "metadata": {},
   "outputs": [],
   "source": [
    "# Convert the graph to a sparse matrix\n",
    "n = len(G.nodes())\n",
    "row, col, data = [], [], []\n",
    "for u, v, d in G.edges(data=True):\n",
    "    row.append(node_index[u])\n",
    "    col.append(node_index[v])\n",
    "    data.append(d['weight'])\n",
    "mat = sp.coo_matrix((data, (row, col)), shape=(n, n)).tocsr()"
   ]
  },
  {
   "cell_type": "code",
   "execution_count": 25,
   "metadata": {},
   "outputs": [],
   "source": [
    "# Filter out nodes that are not nouns, verbs, or adjectives and are not common words\n",
    "common_words = set(stopwords.words('english')) | {'a', 'an', 'the', 'as', 're', 'm', 'ur', 'v', 'iv', 'o', 'y', 'he', 'were', 'isn', 'd', 'its', 'at', 'or', 'then', 's', 'don', 't', 'on', 'in', 'it', 'i', 'x', 'r', 'ee', 'mo', 'tl', 'l', 'f', 'e', 'n', 'c', 'u', 'w', 'se', 'j'}\n",
    "filtered_nodes = [node for node in G.nodes() if wordnet.synsets(node) and wordnet.synsets(node)[0].pos() in {'n', 'v', 'a'} and node not in common_words]\n",
    "G = G.subgraph(filtered_nodes)\n",
    "\n",
    "# Create a dictionary that maps each node name to a unique integer index\n",
    "node_index = {node_name: i for i, node_name in enumerate(G.nodes())}\n",
    "\n",
    "# Convert the graph to a sparse matrix again after filtering\n",
    "n = len(G.nodes())\n",
    "row, col, data = [], [], []\n",
    "for u, v, d in G.edges(data=True):\n",
    "    row.append(node_index[u])\n",
    "    col.append(node_index[v])\n",
    "    data.append(d['weight'])\n",
    "mat = sp.coo_matrix((data, (row, col)), shape=(n, n)).tocsr()"
   ]
  },
  {
   "cell_type": "code",
   "execution_count": 26,
   "metadata": {},
   "outputs": [],
   "source": [
    "# Calculate the pagerank\n",
    "pr = nx.pagerank(G, weight='weight')\n",
    "\n",
    "# Add the pagerank to the node attributes\n",
    "for i, (node_id, _) in enumerate(G.nodes(data=True)):\n",
    "    original_index = node_id\n",
    "    pagerank_value = pr.get(original_index, 0)\n",
    "    G.nodes[node_id]['pagerank'] = pagerank_value"
   ]
  },
  {
   "cell_type": "code",
   "execution_count": 27,
   "metadata": {},
   "outputs": [
    {
     "data": {
      "text/plain": [
       "NodeDataView({'apple': {'size': 46, 'pagerank': 0.008923756916565858}, 'makes': {'size': 11, 'pagerank': 0.00292050996175737}, 'best': {'size': 49, 'pagerank': 0.007957317133624303}, 'cellphone': {'size': 5, 'pagerank': 0.0006301184946970531}, 'market': {'size': 3, 'pagerank': 0.00028428130126632953}, 'hands': {'size': 3, 'pagerank': 0.00030908951889097654}, 'ease': {'size': 5, 'pagerank': 0.0006526236452567099}, 'use': {'size': 30, 'pagerank': 0.004261523781154501}, 'good': {'size': 59, 'pagerank': 0.005610923707990692}, 'battery': {'size': 53, 'pagerank': 0.010080360114261068}, 'life': {'size': 39, 'pagerank': 0.00658511379126745}, 'fits': {'size': 3, 'pagerank': 0.0003766554206007109}, 'fine': {'size': 2, 'pagerank': 0.0005097184496849783}, 'love': {'size': 81, 'pagerank': 0.00802793344183062}, 'works': {'size': 18, 'pagerank': 0.002863904817859415}, 'great': {'size': 134, 'pagerank': 0.01785904681528137}, 'red': {'size': 14, 'pagerank': 0.0025920109625268816}, 'color': {'size': 31, 'pagerank': 0.0032278666677621006}, 'long': {'size': 13, 'pagerank': 0.0032195414767560164}, 'time': {'size': 25, 'pagerank': 0.005095833560726156}, 'user': {'size': 4, 'pagerank': 0.0005495597998616707}, 'phone': {'size': 242, 'pagerank': 0.044555527937029556}, 'full': {'size': 7, 'pagerank': 0.001577905891591627}, 'size': {'size': 15, 'pagerank': 0.002291066541488954}, 'screen': {'size': 17, 'pagerank': 0.003008769807950472}, 'much': {'size': 35, 'pagerank': 0.00723496043199825}, 'faster': {'size': 7, 'pagerank': 0.0022551460932397306}, 'many': {'size': 7, 'pagerank': 0.0012283856949109823}, 'ways': {'size': 1, 'pagerank': 0.0002610682893602897}, 'customize': {'size': 2, 'pagerank': 0.0005220346736393447}, 'wife': {'size': 14, 'pagerank': 0.0018400622736076278}, 'dropped': {'size': 1, 'pagerank': 0.0002373219036167103}, 'right': {'size': 10, 'pagerank': 0.001501136429950129}, 'protect': {'size': 2, 'pagerank': 0.00038712526097432515}, 'plan': {'size': 3, 'pagerank': 0.0008681685453148405}, 'expired': {'size': 1, 'pagerank': 0.0002373219036167103}, 'perfect': {'size': 13, 'pagerank': 0.0015398411384624942}, 'thing': {'size': 5, 'pagerank': 0.001312375576504497}, 'amazing': {'size': 16, 'pagerank': 0.001393648260302955}, 'family': {'size': 3, 'pagerank': 0.0009907907949249061}, 'kids': {'size': 1, 'pagerank': 0.00031791611863466265}, 'grandma': {'size': 1, 'pagerank': 0.00031791611863466265}, 'super': {'size': 8, 'pagerank': 0.00107631370744895}, 'powerful': {'size': 1, 'pagerank': 0.00031791611863466265}, 'run': {'size': 1, 'pagerank': 0.00031791611863466265}, 'business': {'size': 1, 'pagerank': 0.00031791611863466265}, 'going': {'size': 7, 'pagerank': 0.0016867992098987868}, 'purchase': {'size': 16, 'pagerank': 0.0037798543305758636}, 'stopped': {'size': 2, 'pagerank': 0.0007805018327388317}, 'buy': {'size': 39, 'pagerank': 0.008556300037114054}, 'finance': {'size': 1, 'pagerank': 0.00036664639433536914}, 'person': {'size': 2, 'pagerank': 0.001014576764485382}, 'knowledge': {'size': 2, 'pagerank': 0.00041396276171633566}, 'started': {'size': 2, 'pagerank': 0.0005565453887008956}, 'finish': {'size': 1, 'pagerank': 0.0003666463943353691}, 'assisted': {'size': 1, 'pagerank': 0.0003666463943353691}, 'way': {'size': 14, 'pagerank': 0.003274643928037787}, 'husband': {'size': 3, 'pagerank': 0.0006103365892486951}, 'satisfied': {'size': 3, 'pagerank': 0.00043326836679949464}, 'glad': {'size': 5, 'pagerank': 0.0007127324998679909}, 'shop': {'size': 1, 'pagerank': 0.00036664639433536914}, 'far': {'size': 14, 'pagerank': 0.0033200635362862453}, 'used': {'size': 11, 'pagerank': 0.0027953999202815806}, 'android': {'size': 13, 'pagerank': 0.003873472422181821}, 'got': {'size': 23, 'pagerank': 0.00354654379274904}, '30': {'size': 3, 'pagerank': 0.001436836071283938}, 'years': {'size': 13, 'pagerank': 0.003644652927589318}, 'difference': {'size': 12, 'pagerank': 0.002430528956037969}, 'easy': {'size': 46, 'pagerank': 0.005711864771676927}, 'learn': {'size': 3, 'pagerank': 0.0010271948643339338}, 'senior': {'size': 1, 'pagerank': 0.0003381932092060766}, 'population': {'size': 1, 'pagerank': 0.0003381932092060766}, 'member': {'size': 1, 'pagerank': 0.0003381932092060766}, 'recommend': {'size': 19, 'pagerank': 0.0018573121546232052}, 'afraid': {'size': 1, 'pagerank': 0.0003381932092060766}, 'keyboard': {'size': 2, 'pagerank': 0.0008511683562574904}, 'problem': {'size': 6, 'pagerank': 0.0018646638893474344}, 'like': {'size': 23, 'pagerank': 0.00615125207505092}, 'shutting': {'size': 1, 'pagerank': 0.0003883438934020097}, 'side': {'size': 4, 'pagerank': 0.0013971087830817823}, 'buttons': {'size': 1, 'pagerank': 0.0003883438934020097}, 'get': {'size': 19, 'pagerank': 0.0048552029920719}, 'pressed': {'size': 1, 'pagerank': 0.0003883438934020097}, 'trying': {'size': 3, 'pagerank': 0.0008106358308858508}, 'press': {'size': 1, 'pagerank': 0.0003883438934020097}, 'one': {'size': 33, 'pagerank': 0.007866478049623047}, 'picture': {'size': 7, 'pagerank': 0.0022511508905234427}, 'taken': {'size': 1, 'pagerank': 0.0003883438934020097}, 'button': {'size': 7, 'pagerank': 0.001434580465326961}, 'silence': {'size': 1, 'pagerank': 0.0003883438934020097}, 'hard': {'size': 4, 'pagerank': 0.0017711430764314473}, 'finger': {'size': 1, 'pagerank': 0.0003883438934020098}, 'reach': {'size': 1, 'pagerank': 0.0003883438934020098}, 'move': {'size': 2, 'pagerank': 0.0009012529772907949}, 'upgrade': {'size': 44, 'pagerank': 0.006432303341254081}, '7': {'size': 14, 'pagerank': 0.0019390892692944816}, '14': {'size': 75, 'pagerank': 0.016818648418748465}, 'worth': {'size': 6, 'pagerank': 0.0020946480274690814}, 'adding': {'size': 1, 'pagerank': 0.00030554055859941453}, 'reduced': {'size': 1, 'pagerank': 0.00030554055859941453}, 'monthly': {'size': 2, 'pagerank': 0.0005099494315330979}, 'cost': {'size': 3, 'pagerank': 0.0008111072734172661}, 'financing': {'size': 1, 'pagerank': 0.00030554055859941453}, 'incentives': {'size': 1, 'pagerank': 0.00030554055859941453}, 'keep': {'size': 3, 'pagerank': 0.0005990829365739032}, 'please': {'size': 1, 'pagerank': 0.0003074483064526135}, 'received': {'size': 5, 'pagerank': 0.0010604501607489403}, 'said': {'size': 4, 'pagerank': 0.0013563779730625483}, 'unlike': {'size': 2, 'pagerank': 0.0004794889481634897}, 'getting': {'size': 6, 'pagerank': 0.0013412619433688776}, 'cancelled': {'size': 1, 'pagerank': 0.0003074483064526135}, 'confirmation': {'size': 1, 'pagerank': 0.0003074483064526135}, 'new': {'size': 71, 'pagerank': 0.0123321777158383}, 'navigate': {'size': 4, 'pagerank': 0.0006127059708476555}, 'challenge': {'size': 1, 'pagerank': 0.00037205856696854}, 'issues': {'size': 10, 'pagerank': 0.0019791074114129436}, 'group': {'size': 1, 'pagerank': 0.00037205856696854}, 'texts': {'size': 2, 'pagerank': 0.0005898200793262348}, 'receiving': {'size': 1, 'pagerank': 0.00037205856696853997}, 'shut': {'size': 1, 'pagerank': 0.00037205856696853997}, 'restarted': {'size': 1, 'pagerank': 0.00037205856696853997}, 'still': {'size': 13, 'pagerank': 0.003380389665460537}, 'show': {'size': 1, 'pagerank': 0.00037205856696853997}, 'waited': {'size': 2, 'pagerank': 0.0004188926256405328}, 'month': {'size': 3, 'pagerank': 0.0006292860581715666}, 'entering': {'size': 1, 'pagerank': 0.0002673857286292744}, 'review': {'size': 3, 'pagerank': 0.0008651589583400974}, 'pleased': {'size': 7, 'pagerank': 0.0007919428770553296}, 'happy': {'size': 24, 'pagerank': 0.0025579745747464342}, 'service': {'size': 25, 'pagerank': 0.002853586369123629}, 'data': {'size': 9, 'pagerank': 0.0020363029335105387}, 'transferred': {'size': 6, 'pagerank': 0.0015034073681511853}, '15': {'size': 3, 'pagerank': 0.0004528871658394624}, 'minutes': {'size': 3, 'pagerank': 0.0013706836990951279}, 'went': {'size': 8, 'pagerank': 0.0017360768213543027}, 'big': {'size': 7, 'pagerank': 0.001184521049442388}, 'jump': {'size': 1, 'pagerank': 0.00041303396274470995}, 'appears': {'size': 2, 'pagerank': 0.0005236311814372942}, 'need': {'size': 9, 'pagerank': 0.0015482795906523045}, 'lot': {'size': 7, 'pagerank': 0.0023112951682113}, 'features': {'size': 25, 'pagerank': 0.0029861606553304625}, 'hooked': {'size': 1, 'pagerank': 0.00041303396274470995}, 'home': {'size': 6, 'pagerank': 0.0011831129159982304}, 'loss': {'size': 1, 'pagerank': 0.00041303396274470995}, 'frame': {'size': 1, 'pagerank': 0.00041303396274470995}, 'little': {'size': 12, 'pagerank': 0.0032018546589029488}, 'seems': {'size': 4, 'pagerank': 0.001453669163665923}, 'lighter': {'size': 1, 'pagerank': 0.00041303396274470995}, 'swiping': {'size': 1, 'pagerank': 0.00041303396274470995}, 'takes': {'size': 8, 'pagerank': 0.0010684433004141793}, 'son': {'size': 17, 'pagerank': 0.002084642987519178}, 'slow': {'size': 2, 'pagerank': 0.0004554999564461003}, '11': {'size': 22, 'pagerank': 0.007067804676038867}, 'three': {'size': 1, 'pagerank': 0.0002952373509942537}, 'sure': {'size': 5, 'pagerank': 0.0013056788296141547}, 'wish': {'size': 5, 'pagerank': 0.0015938052987729092}, 'allow': {'size': 1, 'pagerank': 0.0002952373509942537}, 'changes': {'size': 1, 'pagerank': 0.0002952373509942537}, 'product': {'size': 25, 'pagerank': 0.002815270609013046}, 'follows': {'size': 1, 'pagerank': 0.00023663517818300856}, 'design': {'size': 7, 'pagerank': 0.0009564140954256946}, 'functionality': {'size': 3, 'pagerank': 0.00042157949863918165}, 'generations': {'size': 1, 'pagerank': 0.00023663517818300856}, 'phones': {'size': 12, 'pagerank': 0.0018949712686472408}, 'work': {'size': 7, 'pagerank': 0.001037269205924018}, 'device': {'size': 1, 'pagerank': 0.00020042359421032456}, 'money': {'size': 2, 'pagerank': 0.0009144944357375595}, 'daughter': {'size': 16, 'pagerank': 0.0016120121072796608}, 'needed': {'size': 9, 'pagerank': 0.0017721652365138177}, 'working': {'size': 5, 'pagerank': 0.0014317404597649814}, 'bit': {'size': 9, 'pagerank': 0.0017481654884299001}, 'liked': {'size': 3, 'pagerank': 0.00042814327708933246}, 'memory': {'size': 5, 'pagerank': 0.0008438728830458761}, 'disappointed': {'size': 5, 'pagerank': 0.0009285520287734387}, 'charging': {'size': 1, 'pagerank': 0.00033039293663187833}, 'block': {'size': 3, 'pagerank': 0.0007555348791816144}, 'included': {'size': 1, 'pagerank': 0.00033039293663187833}, 'issue': {'size': 6, 'pagerank': 0.0013253178084871255}, 'well': {'size': 11, 'pagerank': 0.0021688741472317328}, 'set': {'size': 15, 'pagerank': 0.00346469141977264}, 'store': {'size': 17, 'pagerank': 0.004883442022981131}, 'upgraded': {'size': 20, 'pagerank': 0.002812405821400646}, '6s': {'size': 7, 'pagerank': 0.0010239154747745866}, 'scratch': {'size': 1, 'pagerank': 0.00024883760214534445}, 'head': {'size': 1, 'pagerank': 0.00024883760214534445}, 'upgrading': {'size': 5, 'pagerank': 0.0006699542126858683}, 'night': {'size': 2, 'pagerank': 0.0003405081802546935}, 'day': {'size': 8, 'pagerank': 0.002668799436830822}, 'value': {'size': 2, 'pagerank': 0.000562100640797578}, 'pass': {'size': 1, 'pagerank': 0.00037468455411546566}, 'carrier': {'size': 3, 'pagerank': 0.0007221944467170842}, 'deals': {'size': 1, 'pagerank': 0.00037468455411546566}, 'moms': {'size': 1, 'pagerank': 0.00037468455411546566}, 'old': {'size': 29, 'pagerank': 0.005413364856499876}, 'galaxy': {'size': 2, 'pagerank': 0.000464711014712402}, 'pro': {'size': 4, 'pagerank': 0.0009518994989780173}, 'kind': {'size': 1, 'pagerank': 0.00037468455411546566}, 'guy': {'size': 1, 'pagerank': 0.00037468455411546566}, 'beat': {'size': 2, 'pagerank': 0.0010657802356071396}, 'offers': {'size': 1, 'pagerank': 0.00037468455411546566}, 'seeing': {'size': 2, 'pagerank': 0.0002897179060045911}, 'realized': {'size': 1, 'pagerank': 0.00025814352675325653}, 'wanted': {'size': 5, 'pagerank': 0.0009482260744958819}, 'useful': {'size': 1, 'pagerank': 0.00025814352675325653}, 'better': {'size': 34, 'pagerank': 0.005814102915247157}, 'products': {'size': 12, 'pagerank': 0.001457846779783855}, 'disappoint': {'size': 3, 'pagerank': 0.0005009542587239457}, 'display': {'size': 7, 'pagerank': 0.0011080989432776832}, 'crisp': {'size': 2, 'pagerank': 0.000385855700653048}, 'clear': {'size': 9, 'pagerank': 0.0015315741080894488}, 'upgrades': {'size': 2, 'pagerank': 0.000385855700653048}, 'camera': {'size': 62, 'pagerank': 0.010063686456661435}, 'grow': {'size': 2, 'pagerank': 0.0004723816787850528}, 'flaws': {'size': 1, 'pagerank': 0.00020342465586376015}, 'exceed': {'size': 1, 'pagerank': 0.0002588354594501605}, 'expectations': {'size': 3, 'pagerank': 0.00037366005849086205}, 'committed': {'size': 1, 'pagerank': 0.0002588354594501605}, 'line': {'size': 2, 'pagerank': 0.0004986015202972133}, 'price': {'size': 13, 'pagerank': 0.0016921492765148093}, 'reasonable': {'size': 2, 'pagerank': 0.0004055805597037073}, 'real': {'size': 1, 'pagerank': 0.0002037909594753571}, 'nice': {'size': 31, 'pagerank': 0.003495508209142511}, 'associate': {'size': 3, 'pagerank': 0.0006231276843634808}, 'transaction': {'size': 3, 'pagerank': 0.0009218260302168128}, 'purchased': {'size': 13, 'pagerank': 0.0017406188628002375}, 'using': {'size': 5, 'pagerank': 0.0006632352496054103}, 'appreciate': {'size': 2, 'pagerank': 0.0005360317704245348}, 'style': {'size': 2, 'pagerank': 0.0002662607962598128}, 'expected': {'size': 3, 'pagerank': 0.00044318937380398123}, 'high': {'size': 5, 'pagerank': 0.002300036689782742}, 'quality': {'size': 28, 'pagerank': 0.005099832050467603}, 'transitioned': {'size': 1, 'pagerank': 0.0001955161605849211}, 'switched': {'size': 4, 'pagerank': 0.0009489010832399258}, 'acceptable': {'size': 1, 'pagerank': 0.00022226570608709675}, 'may': {'size': 3, 'pagerank': 0.0016866029362305036}, 'took': {'size': 6, 'pagerank': 0.0017455434716408974}, 'setup': {'size': 6, 'pagerank': 0.0014615789283210637}, 'box': {'size': 2, 'pagerank': 0.0009124749332709169}, 'ok': {'size': 3, 'pagerank': 0.0005621467707180365}, 'liking': {'size': 1, 'pagerank': 0.00029607569960705797}, 'changed': {'size': 2, 'pagerank': 0.0007130677822297987}, 'plug': {'size': 2, 'pagerank': 0.00038641104194657184}, 'cords': {'size': 1, 'pagerank': 0.00029607569960705797}, 'plenty': {'size': 1, 'pagerank': 0.00029607569960705797}, 'thought': {'size': 3, 'pagerank': 0.0007257260455696717}, 'go': {'size': 11, 'pagerank': 0.002593820064728095}, '12': {'size': 7, 'pagerank': 0.001811882730939588}, 'hood': {'size': 1, 'pagerank': 0.00018920244879081795}, 'differences': {'size': 4, 'pagerank': 0.0005231851951741401}, 'process': {'size': 4, 'pagerank': 0.0007509041920873521}, 'disaster': {'size': 1, 'pagerank': 0.00044363061839118123}, 'salesman': {'size': 2, 'pagerank': 0.0006852269793206846}, 'distracted': {'size': 1, 'pagerank': 0.00044363061839118123}, 'interrupted': {'size': 1, 'pagerank': 0.00044363061839118123}, 'former': {'size': 1, 'pagerank': 0.00044363061839118123}, 'clients': {'size': 1, 'pagerank': 0.00044363061839118123}, 'sales': {'size': 1, 'pagerank': 0.00044363061839118123}, 'people': {'size': 6, 'pagerank': 0.0021843242777088126}, 'attention': {'size': 1, 'pagerank': 0.00044363061839118123}, 'entered': {'size': 1, 'pagerank': 0.00044363061839118123}, 'information': {'size': 4, 'pagerank': 0.0007215706417163527}, 'leading': {'size': 1, 'pagerank': 0.00044363061839118123}, 'follow': {'size': 1, 'pagerank': 0.00044363061839118123}, 'visit': {'size': 2, 'pagerank': 0.0007311991827206952}, 'different': {'size': 11, 'pagerank': 0.002999364264223142}, 'bought': {'size': 14, 'pagerank': 0.002472369945799898}, '13': {'size': 21, 'pagerank': 0.005955443265280999}, 'stock': {'size': 2, 'pagerank': 0.0006969528269982435}, 'replaced': {'size': 6, 'pagerank': 0.0009710800127281459}, 'deal': {'size': 5, 'pagerank': 0.0014365111444937923}, 'fast': {'size': 25, 'pagerank': 0.003932580409072739}, 'coming': {'size': 2, 'pagerank': 0.0003638304240415547}, 'loves': {'size': 21, 'pagerank': 0.0023128496631875974}, 'weight': {'size': 2, 'pagerank': 0.0003319810524500506}, 'experience': {'size': 6, 'pagerank': 0.001758981060539563}, 'reliable': {'size': 1, 'pagerank': 0.000267140229528332}, 'os': {'size': 1, 'pagerank': 0.000267140229528332}, 'past': {'size': 2, 'pagerank': 0.0005610302691701564}, 'models': {'size': 2, 'pagerank': 0.0004327171793936446}, 'longer': {'size': 5, 'pagerank': 0.0016388253189006379}, 'storage': {'size': 5, 'pagerank': 0.0008143471480545123}, 'processor': {'size': 3, 'pagerank': 0.0003913340096607385}, 'speakers': {'size': 2, 'pagerank': 0.0003252455744629176}, 'worst': {'size': 1, 'pagerank': 0.00022333313131492197}, 'customer': {'size': 6, 'pagerank': 0.0009484181787916578}, 'experienced': {'size': 1, 'pagerank': 0.00022333313131492197}, 'needs': {'size': 3, 'pagerank': 0.001394020226270169}, 'update': {'size': 2, 'pagerank': 0.0002573204044357487}, '8': {'size': 13, 'pagerank': 0.0015701394393523756}, 'updated': {'size': 5, 'pagerank': 0.0011313636854261748}, 'expensive': {'size': 3, 'pagerank': 0.00032259605848129015}, 'grandson': {'size': 1, 'pagerank': 0.000164607386205956}, 'miss': {'size': 5, 'pagerank': 0.0010368579403531443}, 'able': {'size': 8, 'pagerank': 0.003514254495556125}, 'fingerprint': {'size': 1, 'pagerank': 0.00020440892362506255}, 'unlock': {'size': 2, 'pagerank': 0.0005127881267415065}, 'covers': {'size': 1, 'pagerank': 0.0001782980006288532}, 'lemon': {'size': 1, 'pagerank': 0.0006596254394051316}, 'first': {'size': 10, 'pagerank': 0.0023871527769417406}, 'blamed': {'size': 1, 'pagerank': 0.0006596254394051316}, 'mobile': {'size': 5, 'pagerank': 0.0017739455881961577}, 'poor': {'size': 1, 'pagerank': 0.0006596254394051316}, 'reception': {'size': 2, 'pagerank': 0.0008785810656851865}, 'area': {'size': 1, 'pagerank': 0.0006596254394051316}, 'live': {'size': 3, 'pagerank': 0.0011367157219871937}, 'solve': {'size': 2, 'pagerank': 0.0010451853244875784}, 'tired': {'size': 1, 'pagerank': 0.0006596254394051316}, 'friends': {'size': 2, 'pagerank': 0.0011858348073581272}, 'businesses': {'size': 1, 'pagerank': 0.0006596254394051316}, 'telling': {'size': 1, 'pagerank': 0.0006596254394051316}, 'understand': {'size': 3, 'pagerank': 0.00108657625274136}, 'breaking': {'size': 1, 'pagerank': 0.0006596254394051316}, 'made': {'size': 6, 'pagerank': 0.001872548008215564}, 'least': {'size': 3, 'pagerank': 0.0009135451389933533}, 'half': {'size': 1, 'pagerank': 0.0006596254394051316}, 'dozen': {'size': 1, 'pagerank': 0.0006596254394051316}, 'calls': {'size': 1, 'pagerank': 0.0006596254394051316}, 'drove': {'size': 1, 'pagerank': 0.0006596254394051316}, '40': {'size': 2, 'pagerank': 0.0008033629390117955}, '60': {'size': 2, 'pagerank': 0.0009569058500095324}, 'miles': {'size': 2, 'pagerank': 0.0008785810656851865}, 'two': {'size': 6, 'pagerank': 0.0027741778272638443}, 'stores': {'size': 2, 'pagerank': 0.0013395452423801393}, 'hoping': {'size': 2, 'pagerank': 0.0009175157284927933}, 'resolve': {'size': 3, 'pagerank': 0.0014566190990243212}, 'nearest': {'size': 1, 'pagerank': 0.0006596254394051316}, 'hour': {'size': 3, 'pagerank': 0.001805752534081789}, 'drive': {'size': 2, 'pagerank': 0.0007755861808261105}, 'productive': {'size': 1, 'pagerank': 0.0006596254394051316}, 'hours': {'size': 7, 'pagerank': 0.0035820854431741884}, 'spent': {'size': 3, 'pagerank': 0.0017254565087325563}, 'talking': {'size': 2, 'pagerank': 0.0010201063679048893}, 'attempting': {'size': 1, 'pagerank': 0.0006596254394051316}, 'exchange': {'size': 3, 'pagerank': 0.0011232974806726068}, 'sleek': {'size': 5, 'pagerank': 0.0007256989047873552}, 'read': {'size': 3, 'pagerank': 0.0006383058954278476}, 'worked': {'size': 6, 'pagerank': 0.0013187276149594133}, 'christmas': {'size': 3, 'pagerank': 0.000534607784686188}, 'gift': {'size': 9, 'pagerank': 0.0011820256314371055}, 'picked': {'size': 2, 'pagerank': 0.0008193637289001742}, 'nov': {'size': 3, 'pagerank': 0.0010583312753522733}, '18': {'size': 2, 'pagerank': 0.0007625919083085712}, 'handled': {'size': 1, 'pagerank': 0.0004566376556522186}, 'bb': {'size': 2, 'pagerank': 0.0009848988866912806}, 'north': {'size': 1, 'pagerank': 0.0004566376556522186}, 'lake': {'size': 1, 'pagerank': 0.0004566376556522186}, 'bill': {'size': 2, 'pagerank': 0.0007625919083085711}, '17': {'size': 1, 'pagerank': 0.0004566376556522186}, 'dec': {'size': 1, 'pagerank': 0.0004566376556522186}, '10': {'size': 3, 'pagerank': 0.0009170462883043601}, 'straightened': {'size': 1, 'pagerank': 0.0004566376556522186}, 'back': {'size': 6, 'pagerank': 0.001818269873778577}, 'lasts': {'size': 3, 'pagerank': 0.0013844805960591382}, 'charge': {'size': 9, 'pagerank': 0.0037165887291932534}, 'failing': {'size': 1, 'pagerank': 0.00037146650143793754}, 'replace': {'size': 3, 'pagerank': 0.0005779690358213714}, '4': {'size': 5, 'pagerank': 0.001553218079863622}, 'continue': {'size': 1, 'pagerank': 0.00037146650143793754}, 'satellite': {'size': 1, 'pagerank': 0.00037146650143793754}, 'sos': {'size': 1, 'pagerank': 0.00037146650143793754}, 'feature': {'size': 4, 'pagerank': 0.0018423725601243218}, 'free': {'size': 2, 'pagerank': 0.0004405192008078132}, 'give': {'size': 2, 'pagerank': 0.0006045567091809871}, 'peace': {'size': 1, 'pagerank': 0.00037146650143793754}, 'mind': {'size': 2, 'pagerank': 0.0007853912687221676}, 'hiking': {'size': 1, 'pagerank': 0.00037146650143793754}, 'country': {'size': 2, 'pagerank': 0.001072824694067783}, 'calling': {'size': 2, 'pagerank': 0.0007301854032026102}, 'factory': {'size': 1, 'pagerank': 0.00020866136648782963}, 'activated': {'size': 2, 'pagerank': 0.000919788282928254}, 'last': {'size': 7, 'pagerank': 0.0017354965257328407}, 'turns': {'size': 1, 'pagerank': 0.00024145700597028112}, 'regret': {'size': 2, 'pagerank': 0.00039442351343046077}, 'ran': {'size': 2, 'pagerank': 0.0006335058909599665}, 'resolution': {'size': 1, 'pagerank': 0.00020300557033163657}, 'soft': {'size': 1, 'pagerank': 0.00019312588582154642}, 'purple': {'size': 2, 'pagerank': 0.00037359044634345236}, 'classic': {'size': 1, 'pagerank': 0.00018209658462494576}, 'blue': {'size': 6, 'pagerank': 0.0009970142789148325}, 'problems': {'size': 7, 'pagerank': 0.0017113158388621984}, 'planning': {'size': 1, 'pagerank': 0.0003793308309183872}, 'international': {'size': 1, 'pagerank': 0.0003793308309183872}, 'travel': {'size': 1, 'pagerank': 0.0003793308309183872}, 'overall': {'size': 12, 'pagerank': 0.004158802605665579}, 'transition': {'size': 5, 'pagerank': 0.0007557653399987353}, 'photos': {'size': 7, 'pagerank': 0.0015857703874371763}, 'emails': {'size': 1, 'pagerank': 0.00037933083091838725}, 'know': {'size': 4, 'pagerank': 0.0019631534455952166}, 'capabilities': {'size': 1, 'pagerank': 0.00037933083091838725}, 'cool': {'size': 4, 'pagerank': 0.00047556193165808607}, 'likes': {'size': 3, 'pagerank': 0.0009996836971972933}, 'carry': {'size': 1, 'pagerank': 0.0002504276024607817}, 'navigation': {'size': 2, 'pagerank': 0.0002978766529663237}, 'operating': {'size': 3, 'pagerank': 0.0003745450846097195}, 'system': {'size': 3, 'pagerank': 0.0005001448505439376}, 'associates': {'size': 1, 'pagerank': 0.00027523303923527605}, 'answered': {'size': 1, 'pagerank': 0.00027523303923527605}, 'questions': {'size': 1, 'pagerank': 0.00027523303923527605}, '6': {'size': 2, 'pagerank': 0.0004891265297200531}, 'scared': {'size': 1, 'pagerank': 0.0003045899666122815}, 'difficult': {'size': 2, 'pagerank': 0.0003981422858648149}, 'change': {'size': 3, 'pagerank': 0.0006262205574432919}, 'wrong': {'size': 4, 'pagerank': 0.0008666368697765956}, 'colors': {'size': 2, 'pagerank': 0.00030433476090955646}, 'gaming': {'size': 2, 'pagerank': 0.0011203472253588458}, 'pictures': {'size': 7, 'pagerank': 0.000790995990010832}, 'major': {'size': 2, 'pagerank': 0.00024581311362168443}, 'quantity': {'size': 1, 'pagerank': 0.00021678444584429684}, 'thanks': {'size': 4, 'pagerank': 0.001067518046419157}, 'latest': {'size': 4, 'pagerank': 0.0007535222935961317}, 'model': {'size': 9, 'pagerank': 0.0013433921226048504}, 'loads': {'size': 1, 'pagerank': 0.00020542226030065763}, 'quick': {'size': 5, 'pagerank': 0.0012659894387105411}, 'find': {'size': 4, 'pagerank': 0.0012291756741981583}, 'case': {'size': 10, 'pagerank': 0.0032159475135701866}, 'fresh': {'size': 2, 'pagerank': 0.0008923352708626964}, 'look': {'size': 4, 'pagerank': 0.0005944562239009696}, 'form': {'size': 1, 'pagerank': 0.00022932102098461847}, 'responsive': {'size': 2, 'pagerank': 0.0011636040018100711}, 'cameras': {'size': 4, 'pagerank': 0.0007731857083941582}, 'improved': {'size': 5, 'pagerank': 0.0008070950474014088}, 'function': {'size': 1, 'pagerank': 0.00024008005125161668}, 'rest': {'size': 1, 'pagerank': 0.00024008005125161668}, 'interact': {'size': 1, 'pagerank': 0.00020929986855574222}, 'shape': {'size': 1, 'pagerank': 0.0002053618563127076}, 'easier': {'size': 4, 'pagerank': 0.0013499464327427432}, 'hold': {'size': 4, 'pagerank': 0.0013892782181157642}, 'project': {'size': 1, 'pagerank': 0.0001968824323945745}, 'nothing': {'size': 7, 'pagerank': 0.0013713103798346693}, 'say': {'size': 4, 'pagerank': 0.001978518801099951}, 'hassle': {'size': 1, 'pagerank': 0.000228828206840523}, 'merchandise': {'size': 1, 'pagerank': 0.000228828206840523}, 'unlocked': {'size': 1, 'pagerank': 0.00022272898691216782}, 'avon': {'size': 1, 'pagerank': 0.00022272898691216782}, 'cell': {'size': 3, 'pagerank': 0.0006171151437046997}, 'salesperson': {'size': 3, 'pagerank': 0.0003336061111142369}, 'helpful': {'size': 4, 'pagerank': 0.000420306237481546}, 'customers': {'size': 4, 'pagerank': 0.0021989705233681736}, 'enjoy': {'size': 3, 'pagerank': 0.00035982029301649584}, 'put': {'size': 5, 'pagerank': 0.0026288201307532928}, 'struggled': {'size': 1, 'pagerank': 0.00034651167332595557}, 'tell': {'size': 2, 'pagerank': 0.000425362237294741}, 'lack': {'size': 1, 'pagerank': 0.00034651167332595557}, 'innovation': {'size': 1, 'pagerank': 0.00034651167332595557}, 'genuine': {'size': 1, 'pagerank': 0.00034651167332595557}, 'year': {'size': 3, 'pagerank': 0.0012470290940097579}, 'leaves': {'size': 1, 'pagerank': 0.00034651167332595557}, 'wanting': {'size': 1, 'pagerank': 0.00034651167332595557}, 'four': {'size': 2, 'pagerank': 0.0009296114503834364}, 'weeks': {'size': 2, 'pagerank': 0.0009191819854118206}, 'hate': {'size': 2, 'pagerank': 0.0015259784490630594}, 'spend': {'size': 1, 'pagerank': 0.0008377684855659383}, 'bothered': {'size': 1, 'pagerank': 0.0008377684855659383}, 'send': {'size': 3, 'pagerank': 0.0015842609450020546}, 'charger': {'size': 1, 'pagerank': 0.0008377684855659383}, 'irritating': {'size': 1, 'pagerank': 0.0008377684855659383}, 'requires': {'size': 1, 'pagerank': 0.0008377684855659383}, 'juice': {'size': 1, 'pagerank': 0.0008377684855659383}, 'charged': {'size': 1, 'pagerank': 0.0008377684855659383}, 'stuff': {'size': 1, 'pagerank': 0.0008377684855659383}, 'nightmare': {'size': 1, 'pagerank': 0.0008377684855659383}, 'make': {'size': 4, 'pagerank': 0.0017264959387661375}, 'lives': {'size': 2, 'pagerank': 0.0008902716606352041}, 'card': {'size': 4, 'pagerank': 0.0019338059385761136}, 'transfer': {'size': 12, 'pagerank': 0.00309687850930926}, 'number': {'size': 1, 'pagerank': 0.0008377684855659383}, 'ended': {'size': 1, 'pagerank': 0.0008377684855659383}, 'call': {'size': 2, 'pagerank': 0.0009924323329000345}, 'provider': {'size': 2, 'pagerank': 0.0015259784490630592}, 'multiple': {'size': 2, 'pagerank': 0.0011321776096882687}, 'times': {'size': 2, 'pagerank': 0.0011321776096882687}, 'wasted': {'size': 1, 'pagerank': 0.0008377684855659383}, '2': {'size': 9, 'pagerank': 0.004049387543241201}, 'frustration': {'size': 1, 'pagerank': 0.0008377684855659383}, 'support': {'size': 5, 'pagerank': 0.0013302220352799804}, 'traveling': {'size': 1, 'pagerank': 0.0008377684855659383}, 'pop': {'size': 2, 'pagerank': 0.0011998722766192235}, 'pay': {'size': 5, 'pagerank': 0.0019529039124667631}, 'overpriced': {'size': 2, 'pagerank': 0.0010351305766491796}, 'roaming': {'size': 1, 'pagerank': 0.0008377684855659383}, 'current': {'size': 1, 'pagerank': 0.0008377684855659383}, 'die': {'size': 2, 'pagerank': 0.0008646313801112816}, 'fan': {'size': 3, 'pagerank': 0.0010692560000649465}, 'think': {'size': 6, 'pagerank': 0.004296166900662506}, 'sell': {'size': 1, 'pagerank': 0.0008377684855659383}, 'mine': {'size': 1, 'pagerank': 0.00022749880005482114}, 'simple': {'size': 3, 'pagerank': 0.0007030330375833671}, 'streamline': {'size': 1, 'pagerank': 0.00039277777795097336}, 'protected': {'size': 1, 'pagerank': 0.00039277777795097336}, 'drop': {'size': 1, 'pagerank': 0.00039277777795097336}, 'tile': {'size': 1, 'pagerank': 0.00039277777795097336}, 'floor': {'size': 1, 'pagerank': 0.00039277777795097336}, 'landing': {'size': 1, 'pagerank': 0.00039277777795097336}, 'grip': {'size': 1, 'pagerank': 0.00039277777795097336}, 'access': {'size': 2, 'pagerank': 0.0005579421040622312}, 'holes': {'size': 1, 'pagerank': 0.00039277777795097336}, 'functions': {'size': 2, 'pagerank': 0.0005932805775409329}, 'loved': {'size': 7, 'pagerank': 0.0009735814560739843}, 'twist': {'size': 1, 'pagerank': 0.0003959208551958816}, 'shake': {'size': 1, 'pagerank': 0.0003959208551958816}, 'light': {'size': 4, 'pagerank': 0.0007481865863280479}, 'okay': {'size': 1, 'pagerank': 0.0003959208551958816}, 'smooth': {'size': 7, 'pagerank': 0.0015990357589641126}, 'automatic': {'size': 1, 'pagerank': 0.00024035490867640603}, 'require': {'size': 2, 'pagerank': 0.0007615280699750339}, 'settings': {'size': 1, 'pagerank': 0.00024035490867640603}, 'version': {'size': 2, 'pagerank': 0.0002157317420145598}, 'complaints': {'size': 6, 'pagerank': 0.0007467164033581213}, 'impressed': {'size': 3, 'pagerank': 0.0012610833413096993}, 'racine': {'size': 1, 'pagerank': 0.0008205513402027187}, 'wisconsin': {'size': 1, 'pagerank': 0.0008205513402027187}, '5': {'size': 4, 'pagerank': 0.0015808838699815117}, 'buying': {'size': 5, 'pagerank': 0.0015361635877264006}, 'michael': {'size': 1, 'pagerank': 0.0008205513402027187}, 'specialist': {'size': 1, 'pagerank': 0.0008205513402027187}, 'delight': {'size': 1, 'pagerank': 0.0008205513402027187}, 'kept': {'size': 2, 'pagerank': 0.0010579844975963084}, 'progress': {'size': 1, 'pagerank': 0.0008205513402027187}, 'point': {'size': 1, 'pagerank': 0.0008205513402027187}, 'helping': {'size': 3, 'pagerank': 0.001546520937141822}, '3': {'size': 4, 'pagerank': 0.0018096587383166043}, 'must': {'size': 3, 'pagerank': 0.001033722016980378}, 'compliment': {'size': 1, 'pagerank': 0.0008205513402027187}, 'demetrius': {'size': 1, 'pagerank': 0.0008205513402027187}, 'manager': {'size': 1, 'pagerank': 0.0008205513402027187}, 'mitchell': {'size': 1, 'pagerank': 0.0008205513402027187}, 'missed': {'size': 1, 'pagerank': 0.0008205513402027187}, 'attitudes': {'size': 1, 'pagerank': 0.0008205513402027187}, 'unpretentious': {'size': 1, 'pagerank': 0.0008205513402027187}, 'wait': {'size': 4, 'pagerank': 0.001902440089172249}, 'breeze': {'size': 3, 'pagerank': 0.0015030912068745338}, 'communication': {'size': 1, 'pagerank': 0.0008205513402027187}, 'utilize': {'size': 1, 'pagerank': 0.0008205513402027187}, 'technique': {'size': 1, 'pagerank': 0.0008205513402027187}, 'thank': {'size': 5, 'pagerank': 0.002401965201990116}, 'training': {'size': 2, 'pagerank': 0.00110825828066247}, 'employees': {'size': 2, 'pagerank': 0.0014914677528201734}, 'treated': {'size': 1, 'pagerank': 0.0008205513402027187}, 'breath': {'size': 2, 'pagerank': 0.0011825946351832102}, 'air': {'size': 1, 'pagerank': 0.0008205513402027187}, 'retail': {'size': 1, 'pagerank': 0.0008205513402027187}, 'workplace': {'size': 2, 'pagerank': 0.0014914677528201734}, 'spoke': {'size': 1, 'pagerank': 0.0008205513402027187}, 'named': {'size': 1, 'pagerank': 0.0008205513402027187}, 'gave': {'size': 3, 'pagerank': 0.001369675406249088}, 'employee': {'size': 4, 'pagerank': 0.001943747535579652}, 'hear': {'size': 1, 'pagerank': 0.0008205513402027187}, 'kudos': {'size': 1, 'pagerank': 0.0008205513402027187}, 'complain': {'size': 1, 'pagerank': 0.0008205513402027187}, 'making': {'size': 1, 'pagerank': 0.0008205513402027187}, 'electronic': {'size': 1, 'pagerank': 0.0005252623611994226}, 'gadgets': {'size': 1, 'pagerank': 0.0005252623611994226}, 'necessity': {'size': 1, 'pagerank': 0.0005252623611994226}, 'things': {'size': 1, 'pagerank': 0.0005252623611994226}, 'important': {'size': 1, 'pagerank': 0.0005252623611994226}, 'knew': {'size': 1, 'pagerank': 0.0005252623611994226}, 'ask': {'size': 1, 'pagerank': 0.0005252623611994226}, 'help': {'size': 3, 'pagerank': 0.0007958887710970531}, 'turned': {'size': 2, 'pagerank': 0.0006075301007942343}, 'solved': {'size': 1, 'pagerank': 0.0005252623611994226}, 'guys': {'size': 1, 'pagerank': 0.0005252623611994226}, 'happier': {'size': 3, 'pagerank': 0.0006435283761207559}, 'standard': {'size': 2, 'pagerank': 0.0005916601110158653}, 'expect': {'size': 3, 'pagerank': 0.0006929800904258944}, 'newer': {'size': 4, 'pagerank': 0.0007072957701698105}, 'found': {'size': 1, 'pagerank': 0.00037226749823414526}, 'newest': {'size': 1, 'pagerank': 0.00027682264952459245}, '7s': {'size': 1, 'pagerank': 0.00025449939587145675}, 'delighted': {'size': 1, 'pagerank': 0.00025449939587145675}, 'reason': {'size': 1, 'pagerank': 0.00042464717343468545}, 'star': {'size': 1, 'pagerank': 0.00042464717343468545}, 'rating': {'size': 1, 'pagerank': 0.00042464717343468545}, 'trips': {'size': 1, 'pagerank': 0.00042464717343468545}, 'file': {'size': 1, 'pagerank': 0.00042464717343468545}, 'caused': {'size': 2, 'pagerank': 0.0006983735836324017}, 'connected': {'size': 1, 'pagerank': 0.00042464717343468545}, 'prevented': {'size': 1, 'pagerank': 0.00042464717343468545}, 'diagnosed': {'size': 1, 'pagerank': 0.00042464717343468545}, 'inconvenience': {'size': 1, 'pagerank': 0.00042464717343468545}, 'discounts': {'size': 1, 'pagerank': 0.0003396551771847046}, 'want': {'size': 3, 'pagerank': 0.0006634273864063138}, 'payments': {'size': 1, 'pagerank': 0.0003396551771847046}, 'learning': {'size': 3, 'pagerank': 0.0003520157582329249}, 'small': {'size': 3, 'pagerank': 0.0005321057451520011}, 'giving': {'size': 1, 'pagerank': 0.00021516631500961782}, 'prefer': {'size': 1, 'pagerank': 0.0002796960419124492}, 'ones': {'size': 2, 'pagerank': 0.0003943763959094658}, 'systems': {'size': 1, 'pagerank': 0.00024240487103180494}, 'birthday': {'size': 2, 'pagerank': 0.0004095724278715746}, 'seamless': {'size': 1, 'pagerank': 0.00023669390761070464}, 'plus': {'size': 7, 'pagerank': 0.0007678338763494903}, 'staff': {'size': 3, 'pagerank': 0.0006705163945917675}, 'friendly': {'size': 4, 'pagerank': 0.0008679996192790107}, 'efficient': {'size': 1, 'pagerank': 0.00035754105555847304}, 'less': {'size': 1, 'pagerank': 0.00035754105555847304}, 'info': {'size': 3, 'pagerank': 0.0007217632250108215}, 'instructions': {'size': 2, 'pagerank': 0.0005824675492777739}, 'credit': {'size': 1, 'pagerank': 0.00035754105555847304}, 'pros': {'size': 2, 'pagerank': 0.0007885617536989872}, 'watch': {'size': 1, 'pagerank': 0.0002737719233294409}, 'designed': {'size': 1, 'pagerank': 0.0002737719233294409}, 'stereo': {'size': 2, 'pagerank': 0.0004899850747794964}, 'audio': {'size': 1, 'pagerank': 0.0003197785417652326}, 'maps': {'size': 1, 'pagerank': 0.0003197785417652326}, 'talk': {'size': 2, 'pagerank': 0.0006853084629255695}, 'radio': {'size': 1, 'pagerank': 0.0003197785417652326}, 'provides': {'size': 1, 'pagerank': 0.0003368561446776352}, 'protection': {'size': 1, 'pagerank': 0.0003368561446776352}, 'prevents': {'size': 1, 'pagerank': 0.0003368561446776352}, 'fingerprints': {'size': 1, 'pagerank': 0.0003368561446776352}, 'dirt': {'size': 1, 'pagerank': 0.0003368561446776352}, 'wow': {'size': 2, 'pagerank': 0.00022198183384314747}, 'see': {'size': 4, 'pagerank': 0.0007562286878121477}, 'exciting': {'size': 1, 'pagerank': 0.00024381946633187897}, 'come': {'size': 2, 'pagerank': 0.00038711042463596135}, 'yr': {'size': 2, 'pagerank': 0.0005036071255199923}, 'waiting': {'size': 1, 'pagerank': 0.0001988140429848848}, 'awaited': {'size': 1, 'pagerank': 0.0002243419486025585}, 'loving': {'size': 1, 'pagerank': 0.0002243419486025585}, 'attractive': {'size': 1, 'pagerank': 0.00021905226060054658}, 'compact': {'size': 1, 'pagerank': 0.00021905226060054658}, 'large': {'size': 2, 'pagerank': 0.0007688080466206237}, 'recipient': {'size': 1, 'pagerank': 0.00023111574681812055}, 'thrilled': {'size': 1, 'pagerank': 0.00023111574681812055}, 'compare': {'size': 4, 'pagerank': 0.0016898694684120451}, 'grade': {'size': 3, 'pagerank': 0.000947695447024341}, 'improvement': {'size': 6, 'pagerank': 0.0015274848289448446}, 'net': {'size': 1, 'pagerank': 0.00022444720480596436}, 'trade': {'size': 3, 'pagerank': 0.0006404783371095122}, 'geek': {'size': 1, 'pagerank': 0.00024738245618888255}, 'squad': {'size': 1, 'pagerank': 0.00024738245618888255}, 'activate': {'size': 2, 'pagerank': 0.0004549720117109778}, 'us': {'size': 4, 'pagerank': 0.0008679959443174651}, 'looks': {'size': 7, 'pagerank': 0.0023922233950409368}, 'proud': {'size': 1, 'pagerank': 0.0002495144787876264}, 'capacity': {'size': 2, 'pagerank': 0.000385809725993575}, 'crazy': {'size': 2, 'pagerank': 0.0004354731756264003}, 'recent': {'size': 1, 'pagerank': 0.0002649206214125643}, 'firmware': {'size': 1, 'pagerank': 0.0002649206214125643}, 'granddaughter': {'size': 1, 'pagerank': 0.00016363956639883903}, 'replaces': {'size': 1, 'pagerank': 0.00022264011444484775}, 'improvements': {'size': 1, 'pagerank': 0.00022264011444484775}, 'park': {'size': 1, 'pagerank': 0.0002116829632096064}, 'trouble': {'size': 1, 'pagerank': 0.000259640193969239}, 'clearing': {'size': 1, 'pagerank': 0.000259640193969239}, 'open': {'size': 2, 'pagerank': 0.0009275624275459916}, 'screens': {'size': 1, 'pagerank': 0.000259640193969239}, 'midnight': {'size': 3, 'pagerank': 0.0008331289000621752}, 'volume': {'size': 2, 'pagerank': 0.000474574065189663}, 'second': {'size': 1, 'pagerank': 0.0003744271007934404}, 'hot': {'size': 1, 'pagerank': 0.0003744271007934404}, 'hope': {'size': 1, 'pagerank': 0.0003744271007934404}, 'third': {'size': 2, 'pagerank': 0.0008229723714949222}, 'september': {'size': 1, 'pagerank': 0.0003744271007934404}, '27': {'size': 1, 'pagerank': 0.0003744271007934404}, 'control': {'size': 1, 'pagerank': 0.0002211510655403634}, 'media': {'size': 1, 'pagerank': 0.0002211510655403634}, 'cash': {'size': 1, 'pagerank': 0.0003467342271922341}, 'responsiveness': {'size': 1, 'pagerank': 0.0003467342271922341}, 'gone': {'size': 1, 'pagerank': 0.0003467342271922341}, 'clean': {'size': 1, 'pagerank': 0.0003467342271922341}, 'helped': {'size': 6, 'pagerank': 0.0018323919103911234}, 'valuable': {'size': 1, 'pagerank': 0.0005512399363784588}, 'even': {'size': 5, 'pagerank': 0.0018793157231854188}, 'existed': {'size': 1, 'pagerank': 0.0005512399363784588}, 'unhappy': {'size': 1, 'pagerank': 0.0005512399363784588}, 'wet': {'size': 1, 'pagerank': 0.0005512399363784588}, 'accident': {'size': 1, 'pagerank': 0.0005512399363784588}, 'updating': {'size': 1, 'pagerank': 0.0005512399363784588}, 'aspects': {'size': 1, 'pagerank': 0.0005512399363784588}, 'hearing': {'size': 1, 'pagerank': 0.00022508052167283628}, 'aids': {'size': 1, 'pagerank': 0.00022508052167283628}, 'choice': {'size': 2, 'pagerank': 0.00035169020120424076}, 'worry': {'size': 1, 'pagerank': 0.00028462712440772845}, 'might': {'size': 1, 'pagerank': 0.00028462712440772845}, 'beautiful': {'size': 8, 'pagerank': 0.0012214597163974891}, 'extra': {'size': 3, 'pagerank': 0.001476416341460661}, 'mile': {'size': 1, 'pagerank': 0.0003270417640284677}, 'accessories': {'size': 1, 'pagerank': 0.0003270417640284677}, 'gen': {'size': 1, 'pagerank': 0.00047668408828336923}, 'ghost': {'size': 1, 'pagerank': 0.00047668408828336923}, 'advantage': {'size': 1, 'pagerank': 0.00047668408828336923}, 'black': {'size': 2, 'pagerank': 0.0006453707006743474}, 'friday': {'size': 2, 'pagerank': 0.0006453707006743474}, 'pick': {'size': 1, 'pagerank': 0.00047668408828336923}, 'leap': {'size': 1, 'pagerank': 0.00047668408828336923}, 'forward': {'size': 4, 'pagerank': 0.000738525510134612}, 'activating': {'size': 1, 'pagerank': 0.00047668408828336923}, 'unknown': {'size': 1, 'pagerank': 0.00047668408828336923}, 'reasons': {'size': 1, 'pagerank': 0.00047668408828336923}, 'recommendation': {'size': 1, 'pagerank': 0.00047668408828336923}, 'squared': {'size': 2, 'pagerank': 0.001403552588641019}, 'face': {'size': 3, 'pagerank': 0.0005625802917196455}, 'recognition': {'size': 1, 'pagerank': 0.00022505466680858142}, 'woks': {'size': 1, 'pagerank': 0.00022505466680858142}, 'came': {'size': 3, 'pagerank': 0.0005571263722812047}, 'constant': {'size': 1, 'pagerank': 0.00028770699160422233}, 'usage': {'size': 2, 'pagerank': 0.0009368274033596402}, 'lightweight': {'size': 1, 'pagerank': 0.00026636802627622946}, 'shipping': {'size': 3, 'pagerank': 0.0008469990443331366}, 'delayed': {'size': 2, 'pagerank': 0.0007284341472560931}, 'days': {'size': 2, 'pagerank': 0.0007203150432507262}, 'ordered': {'size': 2, 'pagerank': 0.000518022828022181}, 'heavy': {'size': 1, 'pagerank': 0.0004354652754213858}, 'lightning': {'size': 2, 'pagerank': 0.0005131761071836558}, 'locks': {'size': 1, 'pagerank': 0.0004354652754213858}, 'paid': {'size': 2, 'pagerank': 0.000521397741682219}, 'part': {'size': 1, 'pagerank': 0.0004354652754213858}, 'feel': {'size': 1, 'pagerank': 0.00025738988694859}, 'wise': {'size': 1, 'pagerank': 0.00030794638725361136}, 'due': {'size': 2, 'pagerank': 0.0004680970029121036}, 'top': {'size': 1, 'pagerank': 0.00030794638725361136}, 'bottom': {'size': 2, 'pagerank': 0.0005416526818731798}, 'amazed': {'size': 1, 'pagerank': 0.0003003204474401945}, 'speed': {'size': 3, 'pagerank': 0.0021509948293355727}, 'similar': {'size': 3, 'pagerank': 0.001877419277817866}, 'reservation': {'size': 1, 'pagerank': 0.0003003204474401945}, 'seeking': {'size': 1, 'pagerank': 0.0003003204474401945}, 'graphics': {'size': 1, 'pagerank': 0.00026684118998163055}, 'definite': {'size': 1, 'pagerank': 0.00024632314079236936}, 'noticed': {'size': 1, 'pagerank': 0.00031157693501697616}, 'annoying': {'size': 2, 'pagerank': 0.0006126694320579704}, 'biggest': {'size': 1, 'pagerank': 0.00031157693501697616}, 'benefit': {'size': 1, 'pagerank': 0.00031157693501697616}, 'smother': {'size': 1, 'pagerank': 0.0002927938611856603}, 'performance': {'size': 2, 'pagerank': 0.0004650009269775966}, 'id': {'size': 2, 'pagerank': 0.0004650009269775966}, 'lasting': {'size': 2, 'pagerank': 0.0005155725086058232}, 'becoming': {'size': 1, 'pagerank': 0.0002941005823927815}, 'unresponsive': {'size': 1, 'pagerank': 0.0002941005823927815}, 'depending': {'size': 2, 'pagerank': 0.0005295482048528314}, 'running': {'size': 1, 'pagerank': 0.0002941005823927815}, 'tried': {'size': 3, 'pagerank': 0.000442557990132383}, 'clicks': {'size': 1, 'pagerank': 0.00027930429036418687}, 'budget': {'size': 1, 'pagerank': 0.00016944810093681828}, 'present': {'size': 3, 'pagerank': 0.0003831726487067735}, 'enjoying': {'size': 5, 'pagerank': 0.00044997601599872767}, 'updates': {'size': 1, 'pagerank': 0.00020642629872710198}, 'batteries': {'size': 1, 'pagerank': 0.00018762400426630834}, 'necessary': {'size': 1, 'pagerank': 0.0002093841997981584}, 'traded': {'size': 1, 'pagerank': 0.0002579638521653124}, 'functional': {'size': 1, 'pagerank': 0.0002325201103997093}, 'course': {'size': 1, 'pagerank': 0.0002325201103997093}, 'lower': {'size': 1, 'pagerank': 0.00021910279139217775}, 'sells': {'size': 1, 'pagerank': 0.00034401207456261307}, 'persons': {'size': 1, 'pagerank': 0.00034401207456261307}, 'walked': {'size': 1, 'pagerank': 0.00034401207456261307}, 'advice': {'size': 1, 'pagerank': 0.00034401207456261307}, 'tips': {'size': 1, 'pagerank': 0.00034401207456261307}, 'corrected': {'size': 1, 'pagerank': 0.00028575417298004103}, 'lots': {'size': 2, 'pagerank': 0.000298084557091608}, 'performing': {'size': 1, 'pagerank': 0.00024706007222498463}, 'cracks': {'size': 1, 'pagerank': 0.00020774553589712736}, 'anthony': {'size': 1, 'pagerank': 0.00033386854940276273}, 'beginning': {'size': 1, 'pagerank': 0.00033386854940276273}, 'end': {'size': 1, 'pagerank': 0.00033386854940276273}, 'patient': {'size': 2, 'pagerank': 0.0005788516132695662}, 'attentive': {'size': 1, 'pagerank': 0.00033386854940276273}, 'hand': {'size': 3, 'pagerank': 0.0012496872330310593}, 'recommended': {'size': 2, 'pagerank': 0.00023883669046957027}, 'impressive': {'size': 1, 'pagerank': 0.000247873873352798}, 'link': {'size': 1, 'pagerank': 0.000247873873352798}, 'inconvenient': {'size': 1, 'pagerank': 0.00021654315296593647}, 'mom': {'size': 2, 'pagerank': 0.0002882839899488047}, 'moves': {'size': 1, 'pagerank': 0.00021436322343769849}, 'physical': {'size': 2, 'pagerank': 0.0015918906079516939}, 'handicap': {'size': 1, 'pagerank': 0.0006667138404288873}, 'fell': {'size': 2, 'pagerank': 0.0011836242392298324}, 'stairs': {'size': 1, 'pagerank': 0.0006667138404288873}, 'broke': {'size': 1, 'pagerank': 0.0006667138404288873}, 'stylus': {'size': 1, 'pagerank': 0.0006667138404288873}, 'favorite': {'size': 1, 'pagerank': 0.0006667138404288873}, 'decided': {'size': 3, 'pagerank': 0.0009360882652343297}, 'return': {'size': 1, 'pagerank': 0.0006667138404288873}, 'nigh': {'size': 1, 'pagerank': 0.0006667138404288873}, 'owned': {'size': 2, 'pagerank': 0.0007172733315987305}, 'date': {'size': 2, 'pagerank': 0.000960334874978129}, 'play': {'size': 1, 'pagerank': 0.0006667138404288873}, 'games': {'size': 1, 'pagerank': 0.0006667138404288873}, 'fastest': {'size': 1, 'pagerank': 0.0006667138404288873}, 'task': {'size': 1, 'pagerank': 0.0006667138404288873}, 'protector': {'size': 2, 'pagerank': 0.0008728837018000017}, 'bubble': {'size': 1, 'pagerank': 0.0006667138404288873}, 'installed': {'size': 1, 'pagerank': 0.0006667138404288873}, 'frustrating': {'size': 1, 'pagerank': 0.0006667138404288873}, 'fault': {'size': 1, 'pagerank': 0.0006667138404288873}, 'trust': {'size': 2, 'pagerank': 0.000960334874978129}, '1': {'size': 1, 'pagerank': 0.0007841807248008191}, 'adjust': {'size': 1, 'pagerank': 0.0007841807248008191}, 'beach': {'size': 1, 'pagerank': 0.0007841807248008191}, 'friend': {'size': 1, 'pagerank': 0.0007841807248008191}, 'yesterday': {'size': 1, 'pagerank': 0.0007841807248008191}, 'position': {'size': 1, 'pagerank': 0.0007841807248008191}, 'accurate': {'size': 1, 'pagerank': 0.0007841807248008191}, 'loose': {'size': 1, 'pagerank': 0.0007841807248008191}, 'gaps': {'size': 1, 'pagerank': 0.0007841807248008191}, 'tight': {'size': 1, 'pagerank': 0.0007841807248008191}, 'google': {'size': 1, 'pagerank': 0.0007841807248008191}, 'gps': {'size': 1, 'pagerank': 0.0007841807248008191}, 'drived': {'size': 1, 'pagerank': 0.0007841807248008191}, 'round': {'size': 1, 'pagerank': 0.0007841807248008191}, 'trip': {'size': 1, 'pagerank': 0.0007841807248008191}, 'droped': {'size': 2, 'pagerank': 0.0014193175305600558}, '100': {'size': 3, 'pagerank': 0.00158938310672614}, '70': {'size': 1, 'pagerank': 0.0007841807248008192}, 'closed': {'size': 2, 'pagerank': 0.0011450056425983549}, 'un': {'size': 1, 'pagerank': 0.0007841807248008191}, 'leave': {'size': 1, 'pagerank': 0.0007841807248008191}, 'mohammed': {'size': 1, 'pagerank': 0.0002846040067624543}, 'addressed': {'size': 1, 'pagerank': 0.0002846040067624543}, 'concerns': {'size': 1, 'pagerank': 0.0002846040067624543}, 'space': {'size': 2, 'pagerank': 0.00039539264562275464}, 'available': {'size': 1, 'pagerank': 0.0002784088414857377}, 'continues': {'size': 1, 'pagerank': 0.00032799868453414066}, 'provide': {'size': 1, 'pagerank': 0.00032799868453414066}, 'baby': {'size': 1, 'pagerank': 0.00032799868453414066}, 'chic': {'size': 1, 'pagerank': 0.00032799868453414066}, 'someone': {'size': 1, 'pagerank': 0.00032799868453414066}, 'looked': {'size': 1, 'pagerank': 0.00035871575403015517}, 'striking': {'size': 1, 'pagerank': 0.00035871575403015517}, 'goes': {'size': 1, 'pagerank': 0.00035871575403015517}, 'fun': {'size': 4, 'pagerank': 0.0004995752754967502}, 'operate': {'size': 1, 'pagerank': 0.0002548956426946278}, 'fs': {'size': 1, 'pagerank': 0.00016081493803486035}, 'consistency': {'size': 1, 'pagerank': 0.0002475930031336701}, 'versions': {'size': 2, 'pagerank': 0.000483008754056227}, 'middle': {'size': 1, 'pagerank': 0.0003251239554836987}, 'school': {'size': 1, 'pagerank': 0.0003251239554836987}, 'monitor': {'size': 1, 'pagerank': 0.0003251239554836987}, 'kid': {'size': 1, 'pagerank': 0.0003251239554836987}, 'safe': {'size': 1, 'pagerank': 0.0003251239554836987}, 'rick': {'size': 1, 'pagerank': 0.0003784992078238359}, 'stout': {'size': 1, 'pagerank': 0.0003784992078238359}, 'cover': {'size': 1, 'pagerank': 0.0003784992078238359}, 'spade': {'size': 1, 'pagerank': 0.0003784992078238359}, 'total': {'size': 1, 'pagerank': 0.0003784992078238359}, 'tech': {'size': 1, 'pagerank': 0.0003784992078238359}, 'disconnected': {'size': 1, 'pagerank': 0.00020811087300478588}, 'order': {'size': 2, 'pagerank': 0.0005103577186602238}, 'company': {'size': 1, 'pagerank': 0.0002034074408717058}, 'places': {'size': 1, 'pagerank': 0.00020924638698824788}, 'taking': {'size': 1, 'pagerank': 0.00021809932359868938}, 'locked': {'size': 1, 'pagerank': 0.0002890403470282609}, 'active': {'size': 1, 'pagerank': 0.0002890403470282609}, 'representatives': {'size': 1, 'pagerank': 0.0002890403470282609}, 'today': {'size': 1, 'pagerank': 0.00019496076599005282}, 'noted': {'size': 1, 'pagerank': 0.00018592342654079967}, 'agent': {'size': 1, 'pagerank': 0.00023306540216651102}, 'tyler': {'size': 1, 'pagerank': 0.00023306540216651102}, 'confusing': {'size': 1, 'pagerank': 0.0002091305451137195}, 'response': {'size': 1, 'pagerank': 0.0002347482706080851}, 'responsible': {'size': 1, 'pagerank': 0.0005013697561254175}, 'young': {'size': 2, 'pagerank': 0.0006464911390801195}, 'man': {'size': 1, 'pagerank': 0.0005013697561254175}, 'thais': {'size': 1, 'pagerank': 0.0005013697561254175}, 'piece': {'size': 2, 'pagerank': 0.0006997049345486408}, 'art': {'size': 1, 'pagerank': 0.0005013697561254175}, 'bright': {'size': 2, 'pagerank': 0.0005575456292100427}, 'bold': {'size': 1, 'pagerank': 0.0005013697561254175}, 'peek': {'size': 1, 'pagerank': 0.0005013697561254175}, 'combo': {'size': 1, 'pagerank': 0.0005013697561254175}, 'capture': {'size': 1, 'pagerank': 0.0005013697561254175}, 'turn': {'size': 1, 'pagerank': 0.0005013697561254175}, 'tracks': {'size': 1, 'pagerank': 0.0005013697561254175}, 'articles': {'size': 1, 'pagerank': 0.00037224420415252804}, 'pocket': {'size': 1, 'pagerank': 0.00037224420415252804}, 'camper': {'size': 1, 'pagerank': 0.00037224420415252804}, 'downfall': {'size': 1, 'pagerank': 0.0004376467556583191}, 'chip': {'size': 2, 'pagerank': 0.0005856771488185572}, 'connect': {'size': 1, 'pagerank': 0.0004376467556583191}, 'earphones': {'size': 1, 'pagerank': 0.0004376467556583191}, 'normal': {'size': 1, 'pagerank': 0.0004376467556583191}, 'cable': {'size': 1, 'pagerank': 0.0004376467556583191}, 'notifications': {'size': 1, 'pagerank': 0.0004376467556583191}, 'mark': {'size': 1, 'pagerank': 0.0004376467556583191}, 'take': {'size': 1, 'pagerank': 0.0004376467556583191}, 'cheaper': {'size': 2, 'pagerank': 0.0005243046524182763}, 'supposed': {'size': 1, 'pagerank': 0.0001845794753804626}, 'pics': {'size': 1, 'pagerank': 0.00018895682793169586}, 'law': {'size': 1, 'pagerank': 0.00031258857401915657}, 'enhanced': {'size': 1, 'pagerank': 0.00031258857401915657}, 'starlight': {'size': 1, 'pagerank': 0.00022065484219272103}, 'spectacular': {'size': 1, 'pagerank': 0.00022065484219272103}, 'water': {'size': 1, 'pagerank': 0.0003076567678587057}, 'software': {'size': 2, 'pagerank': 0.000820510157409379}, 'except': {'size': 2, 'pagerank': 0.00038186087229620676}, 'connectivity': {'size': 1, 'pagerank': 0.00022951228915350243}, 'challenges': {'size': 1, 'pagerank': 0.00022951228915350243}, 'shade': {'size': 1, 'pagerank': 0.000650327176003161}, 'yellow': {'size': 2, 'pagerank': 0.0011497259134844225}, 'ios': {'size': 1, 'pagerank': 0.000650327176003161}, 'transferring': {'size': 3, 'pagerank': 0.0008912453784475154}, 'scope': {'size': 1, 'pagerank': 0.000650327176003161}, 'cons': {'size': 2, 'pagerank': 0.0011497259134844225}, 'stripe': {'size': 1, 'pagerank': 0.000650327176003161}, 'gold': {'size': 1, 'pagerank': 0.000650327176003161}, 'colored': {'size': 1, 'pagerank': 0.000650327176003161}, 'bezel': {'size': 1, 'pagerank': 0.000650327176003161}, 'tag': {'size': 2, 'pagerank': 0.0007953853770860855}, 'narrower': {'size': 1, 'pagerank': 0.000650327176003161}, 'bump': {'size': 1, 'pagerank': 0.000650327176003161}, 'text': {'size': 1, 'pagerank': 0.000650327176003161}, 'messages': {'size': 1, 'pagerank': 0.000650327176003161}, 'car': {'size': 1, 'pagerank': 0.000650327176003161}, 'showstoppers': {'size': 1, 'pagerank': 0.000650327176003161}, 'minor': {'size': 1, 'pagerank': 0.000650327176003161}, 'annoyances': {'size': 1, 'pagerank': 0.000650327176003161}, 'anti': {'size': 1, 'pagerank': 0.0005863811924483192}, 'keeping': {'size': 1, 'pagerank': 0.0005863811924483192}, 'parties': {'size': 1, 'pagerank': 0.0005863811924483192}, 'repairing': {'size': 1, 'pagerank': 0.0005863811924483192}, 'tablets': {'size': 1, 'pagerank': 0.0005863811924483192}, 'coast': {'size': 1, 'pagerank': 0.0005863811924483192}, 'repair': {'size': 1, 'pagerank': 0.0005863811924483192}, 'breaks': {'size': 1, 'pagerank': 0.0005863811924483192}, 'cloud': {'size': 2, 'pagerank': 0.001022542724921523}, 'lets': {'size': 1, 'pagerank': 0.0005863811924483192}, 'backups': {'size': 1, 'pagerank': 0.0005863811924483192}, 'online': {'size': 1, 'pagerank': 0.0005863811924483192}, 'means': {'size': 1, 'pagerank': 0.0005863811924483192}, 'died': {'size': 1, 'pagerank': 0.0005863811924483192}, 'unrecoverable': {'size': 1, 'pagerank': 0.0005863811924483192}, 'complete': {'size': 1, 'pagerank': 0.0005863811924483192}, 'backup': {'size': 1, 'pagerank': 0.0005863811924483192}, 'downloaded': {'size': 1, 'pagerank': 0.0005863811924483192}, 'sign': {'size': 1, 'pagerank': 0.0005863811924483192}, 'happened': {'size': 1, 'pagerank': 0.0005863811924483192}, 'stars': {'size': 2, 'pagerank': 0.0004467493789094628}, 'promised': {'size': 1, 'pagerank': 0.0003698314259072985}, 'signals': {'size': 1, 'pagerank': 0.0003698314259072985}, 'guess': {'size': 2, 'pagerank': 0.0005113067460614714}, 'locations': {'size': 1, 'pagerank': 0.0003698314259072985}, 'shipped': {'size': 1, 'pagerank': 0.0004305952563655736}, 'location': {'size': 1, 'pagerank': 0.0004305952563655736}, 'estimated': {'size': 1, 'pagerank': 0.0004305952563655736}, 'arrival': {'size': 1, 'pagerank': 0.0004305952563655736}, 'left': {'size': 1, 'pagerank': 0.0004305952563655736}, 'dark': {'size': 1, 'pagerank': 0.0004305952563655736}, 'question': {'size': 1, 'pagerank': 0.0004305952563655736}, 'whereabouts': {'size': 1, 'pagerank': 0.0004305952563655736}, 'item': {'size': 2, 'pagerank': 0.0005224251656731503}, 'mini': {'size': 2, 'pagerank': 0.0004011078427710909}, 'personnel': {'size': 1, 'pagerank': 0.00023040170630902768}, 'character': {'size': 1, 'pagerank': 0.00023040170630902768}, 'niece': {'size': 1, 'pagerank': 0.00016187371967057328}, 'lady': {'size': 1, 'pagerank': 0.0002803600008559655}, 'remember': {'size': 2, 'pagerank': 0.0012132040984132234}, 'name': {'size': 1, 'pagerank': 0.0002803600008559655}, 'crash': {'size': 1, 'pagerank': 0.0003024458149245261}, 'detection': {'size': 1, 'pagerank': 0.0003024458149245261}, 'complaining': {'size': 1, 'pagerank': 0.0003024458149245261}, 'allen': {'size': 1, 'pagerank': 0.00027058393674569856}, 'job': {'size': 1, 'pagerank': 0.00027058393674569856}, 'explaining': {'size': 1, 'pagerank': 0.00027058393674569856}, 'learned': {'size': 1, 'pagerank': 0.00017933666249930394}, 'weekend': {'size': 2, 'pagerank': 0.00045394943343425565}, 'shopping': {'size': 1, 'pagerank': 0.00030210593435958715}, 'spree': {'size': 1, 'pagerank': 0.00030210593435958715}, 'booths': {'size': 1, 'pagerank': 0.00021820752556175516}, 'drops': {'size': 1, 'pagerank': 0.00018858753573245418}, 'starter': {'size': 1, 'pagerank': 0.00020394419715901474}, 'technology': {'size': 1, 'pagerank': 0.0002182318004079348}, 'overrated': {'size': 1, 'pagerank': 0.0002182318004079348}, 'en': {'size': 1, 'pagerank': 0.00022060273395820956}, 'personal': {'size': 1, 'pagerank': 0.00022060273395820956}, 'five': {'size': 1, 'pagerank': 0.0001851520988670826}, 'grown': {'size': 1, 'pagerank': 0.00027534833503704663}, 'choices': {'size': 1, 'pagerank': 0.00022407056322194265}, 'step': {'size': 1, 'pagerank': 0.00020533176873914125}, 'services': {'size': 1, 'pagerank': 0.00021539938382314874}, 'minimum': {'size': 1, 'pagerank': 0.0002582539909980592}, '50': {'size': 1, 'pagerank': 0.0002582539909980592}, 'characters': {'size': 1, 'pagerank': 0.0002582539909980592}, '0': {'size': 1, 'pagerank': 0.0002244198386042689}, 'enough': {'size': 1, 'pagerank': 0.0002244198386042689}, 'slot': {'size': 1, 'pagerank': 0.0001778985813591505}, 'given': {'size': 1, 'pagerank': 0.0003137972037410146}, '120': {'size': 1, 'pagerank': 0.0003137972037410146}, 'hz': {'size': 1, 'pagerank': 0.0003137972037410146}, 'refresh': {'size': 1, 'pagerank': 0.0003137972037410146}, 'rate': {'size': 1, 'pagerank': 0.0003137972037410146}, 'tier': {'size': 1, 'pagerank': 0.0002237902901169377}, 'max': {'size': 1, 'pagerank': 0.0002237902901169377}, 'single': {'size': 1, 'pagerank': 0.00028323245046214926}, 'despite': {'size': 1, 'pagerank': 0.00028323245046214926}, 'bionic': {'size': 1, 'pagerank': 0.00028323245046214926}, 'suggestions': {'size': 1, 'pagerank': 0.00036209562761573363}, 'sound': {'size': 1, 'pagerank': 0.00036209562761573363}, 'respectful': {'size': 1, 'pagerank': 0.00036209562761573363}, 'looking': {'size': 2, 'pagerank': 0.0019821926178106605}, 'sides': {'size': 1, 'pagerank': 0.00106575765900975}, 'comfortable': {'size': 1, 'pagerank': 0.00106575765900975}, 'opinion': {'size': 1, 'pagerank': 0.00106575765900975}, 'options': {'size': 1, 'pagerank': 0.00106575765900975}, 'gives': {'size': 1, 'pagerank': 0.00106575765900975}, 'dramatic': {'size': 1, 'pagerank': 0.00106575765900975}, 'average': {'size': 1, 'pagerank': 0.00106575765900975}, 'receive': {'size': 1, 'pagerank': 0.00106575765900975}, 'carrying': {'size': 1, 'pagerank': 0.00106575765900975}, 'carriers': {'size': 1, 'pagerank': 0.00106575765900975}, 'photo': {'size': 1, 'pagerank': 0.00106575765900975}, 'video': {'size': 1, 'pagerank': 0.00106575765900975}, 'editing': {'size': 1, 'pagerank': 0.00106575765900975}, 'sustainable': {'size': 1, 'pagerank': 0.00106575765900975}, 'hundred': {'size': 1, 'pagerank': 0.00106575765900975}, 'dollars': {'size': 1, 'pagerank': 0.00106575765900975}, 'worlds': {'size': 1, 'pagerank': 0.00032183501042738207}, 'incredible': {'size': 1, 'pagerank': 0.00032183501042738207}, 'cant': {'size': 1, 'pagerank': 0.00032183501042738207}, 'build': {'size': 1, 'pagerank': 0.0003338779206145637}, 'retrieving': {'size': 1, 'pagerank': 0.0003338779206145637}, 'recharging': {'size': 1, 'pagerank': 0.0003338779206145637}, 'endurance': {'size': 1, 'pagerank': 0.0003338779206145637}, 'cam': {'size': 1, 'pagerank': 0.0003338779206145637}, 'weighing': {'size': 1, 'pagerank': 0.00030489709775326733}, 'stand': {'size': 1, 'pagerank': 0.00033310225542317355}, 'feels': {'size': 1, 'pagerank': 0.00033310225542317355}, 'fulfills': {'size': 1, 'pagerank': 0.00034272821347096295}, 'qualities': {'size': 1, 'pagerank': 0.00034272821347096295}, 'maneuver': {'size': 1, 'pagerank': 0.00034272821347096295}, 'durability': {'size': 1, 'pagerank': 0.00034272821347096295}, 'neighborhood': {'size': 1, 'pagerank': 0.00035683763581989916}, 'solid': {'size': 1, 'pagerank': 0.00035683763581989916}, 'special': {'size': 2, 'pagerank': 0.0004726014158553933}, 'break': {'size': 1, 'pagerank': 0.0001960639961798882}, 'comfort': {'size': 1, 'pagerank': 0.00024054363274809284}, 'gets': {'size': 1, 'pagerank': 0.00024054363274809284}, 'runs': {'size': 2, 'pagerank': 0.0002692970619853765}, 'locate': {'size': 1, 'pagerank': 0.00025429820564338006}, 'stunning': {'size': 1, 'pagerank': 0.00020476859106324466}, 'contacts': {'size': 1, 'pagerank': 0.0002174634805644855}, 'exceeding': {'size': 1, 'pagerank': 0.0001878621084815548}, 'usual': {'size': 1, 'pagerank': 0.00020338447623697764}, 'tenth': {'size': 1, 'pagerank': 0.0001850282046081615}, 'attendance': {'size': 1, 'pagerank': 0.00018654452915744374}, 'skinny': {'size': 1, 'pagerank': 0.000207760871683294}, 'security': {'size': 1, 'pagerank': 0.0003151426846903082}, 'headache': {'size': 1, 'pagerank': 0.0003151426846903082}, 'email': {'size': 1, 'pagerank': 0.0003151426846903082}, 'ha': {'size': 1, 'pagerank': 0.0003151426846903082}, 'child': {'size': 1, 'pagerank': 0.0005002958402867273}, 'account': {'size': 1, 'pagerank': 0.0005002958402867273}, 'woman': {'size': 1, 'pagerank': 0.0005002958402867273}, 'duluth': {'size': 1, 'pagerank': 0.0005002958402867273}, 'minnesota': {'size': 1, 'pagerank': 0.0005002958402867273}, 'department': {'size': 1, 'pagerank': 0.0005002958402867273}, 'unhelpful': {'size': 1, 'pagerank': 0.0005002958402867273}, 'sat': {'size': 1, 'pagerank': 0.0005002958402867273}, 'rang': {'size': 1, 'pagerank': 0.0005002958402867273}, 'somewhere': {'size': 1, 'pagerank': 0.0005002958402867273}, 'replacement': {'size': 1, 'pagerank': 0.00017150766198933664}})"
      ]
     },
     "execution_count": 27,
     "metadata": {},
     "output_type": "execute_result"
    }
   ],
   "source": [
    "G.nodes(data=True)"
   ]
  },
  {
   "cell_type": "code",
   "execution_count": 28,
   "metadata": {},
   "outputs": [],
   "source": [
    "# Save the data so it can be loaded into Gephi\n",
    "nx.write_gexf(G, \"best buy graph.gexf\")"
   ]
  }
 ],
 "metadata": {
  "kernelspec": {
   "display_name": "Python 3 (ipykernel)",
   "language": "python",
   "name": "python3"
  },
  "language_info": {
   "codemirror_mode": {
    "name": "ipython",
    "version": 3
   },
   "file_extension": ".py",
   "mimetype": "text/x-python",
   "name": "python",
   "nbconvert_exporter": "python",
   "pygments_lexer": "ipython3",
   "version": "3.9.13"
  }
 },
 "nbformat": 4,
 "nbformat_minor": 2
}
